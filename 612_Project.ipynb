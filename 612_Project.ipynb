{
  "cells": [
    {
      "cell_type": "markdown",
      "source": [
        "# 614 Project Notebook\n",
        "\n",
        "### Members: Ayman Shahriar, Harmandeep Singh Teja, Jae Kang, Jinyu Wang, Xin Wang\n",
        "\n",
        "### Instructor: Sarah Shah\n",
        "\n",
        "### Link to dataset: [https://www.kaggle.com/datasets/ananaymital/us-used-cars-dataset](https://www.kaggle.com/datasets/ananaymital/us-used-cars-dataset)"
      ],
      "metadata": {
        "id": "aAboKXLn6XuL"
      }
    },
    {
      "cell_type": "markdown",
      "metadata": {
        "id": "-rRXrtofOqp9"
      },
      "source": [
        "# Data Collection & Wrangling"
      ]
    },
    {
      "cell_type": "code",
      "execution_count": null,
      "metadata": {
        "colab": {
          "base_uri": "https://localhost:8080/"
        },
        "id": "TmtiHqXrchjw",
        "outputId": "33001c10-49a7-4982-ee55-c08ed6b83003"
      },
      "outputs": [
        {
          "name": "stdout",
          "output_type": "stream",
          "text": [
            "Mounted at /content/drive\n"
          ]
        }
      ],
      "source": [
        "# Grant colab notebook access to your google drive\n",
        "from google.colab import drive\n",
        "drive.mount('/content/drive')"
      ]
    },
    {
      "cell_type": "code",
      "execution_count": null,
      "metadata": {
        "id": "m1_EPcE51Ps6"
      },
      "outputs": [],
      "source": [
        "from pyspark.sql import SparkSession\n",
        "from pyspark.sql.functions import length, max, min, col, count, regexp_extract, when, lit, length, isnull, countDistinct, regexp_replace"
      ]
    },
    {
      "cell_type": "code",
      "execution_count": null,
      "metadata": {
        "id": "nAiz3_DH2dF8"
      },
      "outputs": [],
      "source": [
        "# Create SparkSession\n",
        "spark = SparkSession.builder.master(\"local\").appName(\"My App\").getOrCreate()"
      ]
    },
    {
      "cell_type": "code",
      "execution_count": null,
      "metadata": {
        "id": "eHV2KQRv0HG4"
      },
      "outputs": [],
      "source": [
        "# Import dataset\n",
        "df = spark.read.csv(\"/content/drive/MyDrive/100000_rows.csv\", header=True, inferSchema=True, quote='\"', escape='\"')"
      ]
    },
    {
      "cell_type": "code",
      "execution_count": null,
      "metadata": {
        "collapsed": true,
        "id": "3C17pBE6wpnB"
      },
      "outputs": [],
      "source": [
        "# Drop columns we know that will not be used\n",
        "df = df.drop('vin', 'listing_id', 'main_picture_url', 'trimId', 'sp_id')\n",
        "\n",
        "# vin, listing_id, trimId, sp_id - these columns are identification numbers. They are not meaningful data.\n",
        "# main_picture_url - this is url link string. The string itself does not carry any meaning."
      ]
    },
    {
      "cell_type": "code",
      "execution_count": null,
      "metadata": {
        "colab": {
          "background_save": true,
          "base_uri": "https://localhost:8080/"
        },
        "id": "OwK4yHYr_gfo",
        "outputId": "36d36123-bad5-47af-aa25-d8f8779edafe"
      },
      "outputs": [
        {
          "name": "stdout",
          "output_type": "stream",
          "text": [
            "Column 'back_legroom': 3329 '--' values\n",
            "Column 'bed_height': 8123 '--' values\n",
            "Column 'bed_length': 192 '--' values\n",
            "Column 'front_legroom': 812 '--' values\n",
            "Column 'fuel_tank_volume': 51 '--' values\n",
            "Column 'height': 21 '--' values\n",
            "Column 'length': 21 '--' values\n",
            "Column 'maximum_seating': 22 '--' values\n",
            "Column 'wheelbase': 21 '--' values\n",
            "Column 'width': 22 '--' values\n"
          ]
        }
      ],
      "source": [
        "# The dataset description mentions that this dataset includes '--' string values instead of null. Replace '--' values with null.\n",
        "\n",
        "# print count of '--' values in columns\n",
        "for col_name in df.columns:\n",
        "  count_dashes = df.filter(col(col_name) == '--').count()\n",
        "  if count_dashes > 0: print(f\"Column '{col_name}': {count_dashes} '--' values\")\n",
        "\n",
        "# Replace \"--\" with null for each string column\n",
        "for column_name in df.columns:\n",
        "    df = df.withColumn(column_name, when(col(column_name) == \"--\", lit(None)).otherwise(col(column_name)))"
      ]
    },
    {
      "cell_type": "code",
      "execution_count": null,
      "metadata": {
        "colab": {
          "background_save": true
        },
        "id": "_BDivJ4hZoti",
        "outputId": "3f047c0d-5e66-4e64-f4c0-44f1ae8e84aa"
      },
      "outputs": [
        {
          "name": "stdout",
          "output_type": "stream",
          "text": [
            "Numerical Columns\n",
            "Column                    Type                 Null Count      Unique Value Count   Min             Max            \n",
            "====================================================================================================\n",
            "city_fuel_economy         DoubleType()         16016           84                   8.0             127.0          \n",
            "daysonmarket              IntegerType()        0               848                  0               2150           \n",
            "dealer_zip                IntegerType()        0               518                  922             98108          \n",
            "engine_displacement       DoubleType()         5339            63                   700.0           8400.0         \n",
            "highway_fuel_economy      DoubleType()         16016           81                   11.0            127.0          \n",
            "horsepower                DoubleType()         5339            393                  70.0            808.0          \n",
            "latitude                  DoubleType()         0               827                  18.3467         47.5492        \n",
            "longitude                 DoubleType()         0               836                  -122.32         -66.0785       \n",
            "mileage                   DoubleType()         3557            43419                0.0             785778.0       \n",
            "owner_count               DoubleType()         45722           14                   1.0             15.0           \n",
            "price                     DoubleType()         0               27707                795.0           1390000.0      \n",
            "savings_amount            IntegerType()        0               5663                 0               95484          \n",
            "seller_rating             DoubleType()         642             407                  1.0             5.0            \n",
            "year                      IntegerType()        0               67                   1930            2021           \n",
            "\n",
            "String Columns\n",
            "Column                    Null Count      Unique Value Count   Min Length      Max Length     \n",
            "================================================================================\n",
            "back_legroom              8283            188                  4               7              \n",
            "bed                       99393           4                    4               7              \n",
            "bed_height                100000          1                    None            None           \n",
            "bed_length                92069           64                   5               7              \n",
            "body_type                 401             10                   3               15             \n",
            "cabin                     98333           5                    8               14             \n",
            "city                      0               425                  4               22             \n",
            "combine_fuel_economy      100000          1                    None            None           \n",
            "description               2543            83052                21              16644          \n",
            "engine_cylinders          2998            30                   2               25             \n",
            "engine_type               2998            30                   2               25             \n",
            "exterior_color            0               4297                 1               50             \n",
            "franchise_make            25416           41                   3               13             \n",
            "front_legroom             5766            82                   5               7              \n",
            "fuel_tank_volume          5005            160                  5               8              \n",
            "fuel_type                 2459            8                    6               22             \n",
            "height                    4975            415                  5               8              \n",
            "interior_color            0               4934                 1               59             \n",
            "is_certified              100000          1                    None            None           \n",
            "length                    4975            702                  6               8              \n",
            "listing_color             0               15                   3               7              \n",
            "major_options             6484            21920                13              1182           \n",
            "make_name                 0               59                   3               13             \n",
            "maximum_seating           4976            12                   7               8              \n",
            "model_name                0               843                  2               26             \n",
            "power                     14303           1319                 16              18             \n",
            "sp_name                   0               858                  6               45             \n",
            "torque                    15350           1281                 19              21             \n",
            "transmission              1001            5                    1               11             \n",
            "transmission_display      1001            36                   6               34             \n",
            "trim_name                 3841            3753                 1               89             \n",
            "vehicle_damage_category   100000          1                    None            None           \n",
            "wheel_system              4624            6                    3               3              \n",
            "wheel_system_display      4624            6                    3               17             \n",
            "wheelbase                 4975            400                  5               8              \n",
            "width                     4976            259                  5               8              \n"
          ]
        }
      ],
      "source": [
        "# Review all columns\n",
        "\n",
        "def inspect_all_columns(df):\n",
        "      # Print numerical columns - show the min and max values in each column, as well as its data type\n",
        "      print('Numerical Columns')\n",
        "      print(f\"{'Column':<25} {'Type':<20} {'Null Count':<15} {'Unique Value Count':<20} {'Min':<15} {'Max':<15}\")\n",
        "      print(\"=\"*100)\n",
        "      numerical_cols = [col_name for col_name, dtype in df.dtypes if dtype in ('int', 'double', 'float')]\n",
        "\n",
        "      for col_name in numerical_cols:\n",
        "          col_type = df.schema[col_name].dataType\n",
        "          max_value = df.agg({col_name: 'max'}).collect()[0][0]\n",
        "          min_value = df.agg({col_name: 'min'}).collect()[0][0]\n",
        "          null_count = df.filter(df[col_name].isNull()).count()\n",
        "          unique_count = df.select(col_name).distinct().count()\n",
        "          print(f\"{col_name:<25} {str(col_type):<20} {null_count:<15} {unique_count:<20} {str(min_value):<15} {str(max_value):<15}\")\n",
        "\n",
        "      print(\"\\nString Columns\")\n",
        "      print(f\"{'Column':<25} {'Null Count':<15} {'Unique Value Count':<20} {'Min Length':<15} {'Max Length':<15}\")\n",
        "      print(\"=\"*80)\n",
        "      string_cols = [col_name for col_name, col_type in df.dtypes if col_type == 'string']\n",
        "\n",
        "      if string_cols:\n",
        "          for col_name in string_cols:\n",
        "              max_len = df.select(max(length(col(col_name)))).collect()[0][0]\n",
        "              min_len = df.select(min(length(col(col_name)))).collect()[0][0]\n",
        "              null_count = df.filter(df[col_name].isNull()).count()\n",
        "              unique_count = df.select(col_name).distinct().count()\n",
        "              print(f\"{col_name:<25} {null_count:<15} {unique_count:<20} {str(min_len):<15} {str(max_len):<15}\")\n",
        "\n",
        "inspect_all_columns(df)"
      ]
    },
    {
      "cell_type": "code",
      "execution_count": null,
      "metadata": {
        "colab": {
          "background_save": true
        },
        "id": "QDJR7jti-DK2",
        "outputId": "e07ec83a-4846-4919-dac3-349a6553cb5f"
      },
      "outputs": [
        {
          "name": "stdout",
          "output_type": "stream",
          "text": [
            "Dropped column 'bed_height' due to None maximum length.\n",
            "Dropped column 'combine_fuel_economy' due to None maximum length.\n",
            "Dropped column 'is_certified' due to None maximum length.\n",
            "Dropped column 'vehicle_damage_category' due to None maximum length.\n"
          ]
        }
      ],
      "source": [
        "# Drop string columns with no value\n",
        "\n",
        "from pyspark.sql.functions import length, col\n",
        "\n",
        "string_cols = [col_name for col_name, col_type in df.dtypes if col_type == 'string']\n",
        "for col_name in string_cols:\n",
        "    max_len = df.select(max(length(col(col_name)))).collect()[0][0]\n",
        "    if max_len is None:\n",
        "        df = df.drop(col_name)\n",
        "        print(f\"Dropped column '{col_name}' due to None maximum length.\")"
      ]
    },
    {
      "cell_type": "code",
      "execution_count": null,
      "metadata": {
        "colab": {
          "background_save": true
        },
        "id": "giJxhx6j8PFl",
        "outputId": "aa3a6d49-8744-43de-cff5-41c80ce6a30b"
      },
      "outputs": [
        {
          "name": "stdout",
          "output_type": "stream",
          "text": [
            "Units detected for column 'fuel_tank_volume': {'gal'}\n",
            "Units detected for column 'maximum_seating': {'seats'}\n",
            "Units detected for column 'back_legroom': {'in'}\n",
            "Units detected for column 'bed_length': {'in'}\n",
            "Units detected for column 'front_legroom': {'in'}\n",
            "Units detected for column 'height': {'in'}\n",
            "Units detected for column 'length': {'in'}\n",
            "Units detected for column 'wheelbase': {'in'}\n",
            "Units detected for column 'width': {'in'}\n",
            "\n",
            "Every column has consistent unit!\n"
          ]
        }
      ],
      "source": [
        "# Some columns should be numerical, but are string because each value includes unit string (eg. '52 in').\n",
        "# We are going to convert them into numerical columns by removing units.\n",
        "# Before transforming data, check if each column has a consistent unit.\n",
        "\n",
        "columns_with_unit = ['fuel_tank_volume', 'maximum_seating','back_legroom', 'bed_length', 'front_legroom', 'height', 'length',  'wheelbase', 'width' ]\n",
        "\n",
        "max_number_of_unit_in_each_column = 0\n",
        "\n",
        "for column in columns_with_unit:\n",
        "    # Collect unique values for the specific column\n",
        "    unique_units = df.select(column).distinct().rdd.flatMap(lambda x: x).collect()\n",
        "\n",
        "    # Extract units (assuming units are at the end of string values, separated by a space)\n",
        "    units = set()\n",
        "    for value in unique_units:\n",
        "        if isinstance(value, str):\n",
        "            parts = value.split()\n",
        "            if len(parts) > 1:\n",
        "                units.add(parts[-1])  # Add the last part as the potential unit\n",
        "        elif value is not None:\n",
        "            print(f\"Non-string value found in {column}: {value}, type is {type(value)}\")\n",
        "    max_number_of_unit_in_each_column = max_number_of_unit_in_each_column if max_number_of_unit_in_each_column>len(units) else len(units)\n",
        "\n",
        "    print(f\"Units detected for column '{column}': {units}\")\n",
        "\n",
        "if max_number_of_unit_in_each_column<=1:\n",
        "  print()\n",
        "  print(\"Every column has consistent unit!\")"
      ]
    },
    {
      "cell_type": "code",
      "execution_count": null,
      "metadata": {
        "colab": {
          "background_save": true
        },
        "id": "LIov2VMy6Zud"
      },
      "outputs": [],
      "source": [
        "# Convert every column with consistent unit into numerical column by removing unit.\n",
        "columns_to_convert = ['fuel_tank_volume', 'maximum_seating', 'back_legroom', 'bed_length', 'front_legroom', 'height', 'length',  'wheelbase', 'width']\n",
        "\n",
        "for column in columns_to_convert:\n",
        "    df = df.withColumn(column, regexp_replace(column, '[a-zA-Z]+$', '')) # Remove units (assuming units are at the end, separated by a space)\n",
        "    df = df.withColumn(column, col(column).cast(\"double\")) # Convert to numerical type (double)"
      ]
    },
    {
      "cell_type": "code",
      "execution_count": null,
      "metadata": {
        "colab": {
          "background_save": true
        },
        "id": "5ytW-_XeBrtA"
      },
      "outputs": [],
      "source": [
        "# 'power' column consists of two values, horsepower and rpm (eg. '177 hp @ 5,750 RPM')\n",
        "# Split them into two numerical columns.\n",
        "\n",
        "df = df.withColumn('hp_at_rpm', regexp_extract(col('power'), r'(\\d+)\\s*hp', 1).cast('int'))\n",
        "df = df.withColumn('rpm_at_hp', regexp_extract(col('power'), r'@\\s*([\\d,]+)\\s*RPM', 1))\n",
        "df = df.withColumn('rpm_at_hp', regexp_replace(col('rpm_at_hp'), ',', '').cast('int')) # Replace ',' with '' in the 'rpm' column using regexp_replace\n",
        "df = df.drop('power')"
      ]
    },
    {
      "cell_type": "code",
      "execution_count": null,
      "metadata": {
        "colab": {
          "background_save": true
        },
        "id": "MedTlk_5C06S"
      },
      "outputs": [],
      "source": [
        "# 'torque' column consists of two values, torque and rpm (eg. '200 lb-ft @ 1,750 RPM')\n",
        "# Split them into two numerical columns\n",
        "\n",
        "df = df.withColumn('torque_at_rpm', regexp_extract(col('torque'), r'(\\d+)\\s*lb-ft', 1).cast('int'))\n",
        "df = df.withColumn('rpm_at_torque', regexp_extract(col('torque'), r'@\\s*([\\d,]+)\\s*RPM', 1))\n",
        "df = df.withColumn('rpm_at_torque', regexp_replace(col('rpm_at_torque'), ',', '').cast('int')) # Replace ',' with '' in the 'torque_rpm' column using regexp_replace\n",
        "\n",
        "df = df.drop('torque')"
      ]
    },
    {
      "cell_type": "code",
      "execution_count": null,
      "metadata": {
        "colab": {
          "background_save": true
        },
        "id": "nlmKKaihi7p7"
      },
      "outputs": [],
      "source": [
        "# 'dealer_zip' column should be string, not numeric\n",
        "# US zip code is 5 digits. Each digit divides a region into more granular regions.\n",
        "# 5 digits divides the regions too granular. Keep first 3 digits only.\n",
        "\n",
        "from pyspark.sql.functions import substring\n",
        "\n",
        "df = df.withColumn(\"dealer_zip\", col(\"dealer_zip\").cast(\"string\"))\n",
        "df = df.withColumn(\"dealer_zip\", substring(\"dealer_zip\", 1, 3))"
      ]
    },
    {
      "cell_type": "code",
      "execution_count": null,
      "metadata": {
        "colab": {
          "background_save": true,
          "base_uri": "https://localhost:8080/"
        },
        "id": "sLb2HaXeGGh4",
        "outputId": "8baed381-464f-42b9-e035-8ef8c7152d17"
      },
      "outputs": [
        {
          "name": "stdout",
          "output_type": "stream",
          "text": [
            "Numerical Columns\n",
            "Column                    Type                 Null Count      Unique Value Count   Min             Max            \n",
            "====================================================================================================\n",
            "back_legroom              DoubleType()         8283            188                  0.0             49.0           \n",
            "bed_length                DoubleType()         92069           64                   41.5            98.6           \n",
            "city_fuel_economy         DoubleType()         16016           84                   8.0             127.0          \n",
            "daysonmarket              IntegerType()        0               848                  0               2150           \n",
            "engine_displacement       DoubleType()         5339            63                   700.0           8400.0         \n",
            "front_legroom             DoubleType()         5766            82                   35.8            67.0           \n",
            "fuel_tank_volume          DoubleType()         5005            160                  1.9             63.5           \n",
            "height                    DoubleType()         4975            415                  43.9            117.6          \n",
            "highway_fuel_economy      DoubleType()         16016           81                   11.0            127.0          \n",
            "horsepower                DoubleType()         5339            393                  70.0            808.0          \n",
            "latitude                  DoubleType()         0               827                  18.3467         47.5492        \n",
            "length                    DoubleType()         4975            702                  106.1           290.0          \n",
            "longitude                 DoubleType()         0               836                  -122.32         -66.0785       \n",
            "maximum_seating           DoubleType()         4976            12                   2.0             15.0           \n",
            "mileage                   DoubleType()         3557            43419                0.0             785778.0       \n",
            "owner_count               DoubleType()         45722           14                   1.0             15.0           \n",
            "price                     DoubleType()         0               27707                795.0           1390000.0      \n",
            "savings_amount            IntegerType()        0               5663                 0               95484          \n",
            "seller_rating             DoubleType()         642             407                  1.0             5.0            \n",
            "wheelbase                 DoubleType()         4975            400                  73.5            201.0          \n",
            "width                     DoubleType()         4976            259                  61.4            105.9          \n",
            "year                      IntegerType()        0               67                   1930            2021           \n",
            "hp_at_rpm                 IntegerType()        14303           384                  70              808            \n",
            "rpm_at_hp                 IntegerType()        14303           87                   516             9000           \n",
            "torque_at_rpm             IntegerType()        15350           360                  68              935            \n",
            "rpm_at_torque             IntegerType()        15350           99                   200             7500           \n",
            "\n",
            "String Columns\n",
            "Column                    Null Count      Unique Value Count   Min Length      Max Length     \n",
            "================================================================================\n",
            "bed                       99393           4                    4               7              \n",
            "body_type                 401             10                   3               15             \n",
            "cabin                     98333           5                    8               14             \n",
            "city                      0               425                  4               22             \n",
            "dealer_zip                0               227                  3               3              \n",
            "description               2543            83052                21              16644          \n",
            "engine_cylinders          2998            30                   2               25             \n",
            "engine_type               2998            30                   2               25             \n",
            "exterior_color            0               4297                 1               50             \n",
            "franchise_make            25416           41                   3               13             \n",
            "fuel_type                 2459            8                    6               22             \n",
            "interior_color            0               4934                 1               59             \n",
            "listing_color             0               15                   3               7              \n",
            "major_options             6484            21920                13              1182           \n",
            "make_name                 0               59                   3               13             \n",
            "model_name                0               843                  2               26             \n",
            "sp_name                   0               858                  6               45             \n",
            "transmission              1001            5                    1               11             \n",
            "transmission_display      1001            36                   6               34             \n",
            "trim_name                 3841            3753                 1               89             \n",
            "wheel_system              4624            6                    3               3              \n",
            "wheel_system_display      4624            6                    3               17             \n"
          ]
        }
      ],
      "source": [
        "inspect_all_columns(df)"
      ]
    },
    {
      "cell_type": "code",
      "execution_count": null,
      "metadata": {
        "colab": {
          "background_save": true,
          "base_uri": "https://localhost:8080/"
        },
        "id": "uh6NnBgSRdfJ",
        "outputId": "dc1b51de-038f-4da9-ea5c-e4986b078e5f"
      },
      "outputs": [
        {
          "name": "stdout",
          "output_type": "stream",
          "text": [
            "+------------+-----+----------+------------+-----------+-------------+-----------------+------------+----------+--------------------+--------------------+-------------------+--------------------+-------------------+-----+-------------+----------------+--------------+-------------+----------------+-----------------+-------------+------+--------------------+----------+----------------+-----+------+------+---------+--------+------+-----------+-------------+---------+--------------------+---------+---------------+--------+----------------+-----------+-------+-------+--------------+------------------+--------------------+-----------+------------+--------------------+--------------------+------------+--------------------+---------+-----+----+---------+---------+-------------+-------------+\n",
            "|back_legroom|  bed|bed_length|   body_type|      cabin|         city|city_fuel_economy|daysonmarket|dealer_zip|         description|    engine_cylinders|engine_displacement|         engine_type|     exterior_color|fleet|frame_damaged|franchise_dealer|franchise_make|front_legroom|fuel_tank_volume|        fuel_type|has_accidents|height|highway_fuel_economy|horsepower|  interior_color|isCab|is_cpo|is_new|is_oemcpo|latitude|length|listed_date|listing_color|longitude|       major_options|make_name|maximum_seating| mileage|      model_name|owner_count|  price|salvage|savings_amount|     seller_rating|             sp_name|theft_title|transmission|transmission_display|           trim_name|wheel_system|wheel_system_display|wheelbase|width|year|hp_at_rpm|rpm_at_hp|torque_at_rpm|rpm_at_torque|\n",
            "+------------+-----+----------+------------+-----------+-------------+-----------------+------------+----------+--------------------+--------------------+-------------------+--------------------+-------------------+-----+-------------+----------------+--------------+-------------+----------------+-----------------+-------------+------+--------------------+----------+----------------+-----+------+------+---------+--------+------+-----------+-------------+---------+--------------------+---------+---------------+--------+----------------+-----------+-------+-------+--------------+------------------+--------------------+-----------+------------+--------------------+--------------------+------------+--------------------+---------+-----+----+---------+---------+-------------+-------------+\n",
            "|         0.0| NULL|      76.3|Pickup Truck|       NULL|       Linden|             13.0|         255|       703|                NULL|                  V8|             5700.0|                  V8|              WHITE| true|         true|           false|          NULL|         41.0|            26.0|         Gasoline|        false|  74.3|                18.0|     390.0|            Gray|false|  NULL| false|     NULL| 40.6446| 209.0| 2019-12-29|        WHITE| -74.2532|    ['Alloy Wheels']|    Dodge|            3.0|184178.0|        RAM 1500|        3.0| 5499.0|  false|             0| 4.666666666666667|         Auto Legend|      false|           A|           Automatic|             SLT 4WD|         4WD|    Four-Wheel Drive|    120.0| 79.4|2009|      390|     5600|          407|         4000|\n",
            "|         0.0| NULL|      97.6|Pickup Truck|       NULL|West Hartford|             NULL|          14|       611|[!@@Additional In...|                NULL|             5300.0|                NULL|Dark Green Metallic|false|        false|           false|          NULL|         41.3|            34.0|             NULL|         true|  73.7|                NULL|     295.0|     Medium Gray|false|  NULL| false|     NULL| 41.7359| 224.5| 2020-08-26|        GREEN|  -72.722|['Suspension Pack...|Chevrolet|            3.0|162185.0|  Silverado 1500|        2.0| 4990.0|  false|          1357| 4.764705882352941|          Auto Store|      false|           A|           Automatic|   Work Truck LB 4WD|         4WD|    Four-Wheel Drive|    133.0| 78.5|2005|      295|     5200|          335|         4000|\n",
            "|         0.0| Long|      98.6|Pickup Truck|Regular Cab|    Teterboro|             NULL|          89|       760|[!@@Additional In...|                  V8|             6000.0|                  V8|               Blue|false|        false|           false|          NULL|         41.0|            38.0|         Gasoline|        false|  79.1|                NULL|     325.0|            Gray|false|  NULL| false|     NULL| 40.8528| 226.4| 2020-06-12|         BLUE| -74.0677|                NULL|     Ford|            3.0|202612.0|F-250 Super Duty|        3.0| 5899.0|  false|          2684| 4.343283582089552|       Jersey Motors|      false|           A|   5-Speed Automatic|          XLT 4WD LB|         4WD|    Four-Wheel Drive|    137.0| 79.9|2006|      300|     5000|          365|         3750|\n",
            "|         0.0| NULL|      76.3|Pickup Truck|       NULL|     Paterson|             12.0|         200|       752|2 OWNERSCLEAN TIT...|                  V8|             5700.0|                  V8|             Silver|false|        false|           false|          NULL|         41.0|            26.0|         Gasoline|        false|  76.6|                17.0|     345.0|           Black|false|  NULL| false|     NULL| 40.9225| 207.7| 2020-02-22|       SILVER|  -74.178|  ['Premium Wheels']|    Dodge|            3.0|152342.0|        RAM 1500|        3.0| 4895.0|  false|             0|               5.0|    Smart Auto Sales|      false|           A|           Automatic|             SLT 4WD|         4WD|    Four-Wheel Drive|    120.5| 79.9|2005|      240|     4400|          300|         3500|\n",
            "|         0.0| NULL|      98.6|Pickup Truck|       NULL| East Windsor|             NULL|          28|       608|[!@@Additional In...|                  V8|             6000.0|                  V8|  Dark Toreador Red|false|        false|           false|          NULL|         41.0|            38.0|         Gasoline|        false|  79.1|                NULL|     325.0|    Medium Flint|false|  NULL| false|     NULL| 41.8885| 226.4| 2020-08-12|          RED|  -72.608|['Steel Wheels', ...|     Ford|            3.0| 70670.0|F-250 Super Duty|        1.0|11990.0|  false|             0| 4.717948717948718|Century Auto & Tr...|      false|           A|           Automatic|           XL 4WD LB|         4WD|    Four-Wheel Drive|    137.0| 79.9|2006|      300|     5000|          365|         3750|\n",
            "|         0.0| Long|      98.2|Pickup Truck|       NULL|   Wood-Ridge|             13.0|          26|       707|Price includes al...|                  V8|             4700.0|                  V8|               GRAY|false|        false|           false|          NULL|         41.5|            26.0|         Gasoline|         true|  71.1|                16.0|     271.0|            None|false|  NULL| false|     NULL| 40.8622| 218.3| 2020-08-14|         GRAY| -74.0962|    ['Steel Wheels']|   Toyota|            3.0|147314.0|          Tundra|        2.0| 5999.0|  false|          2312|3.6470588235294117|      Auto Spot LLC.|      false|           A|           Automatic|2dr Regular Cab 4...|         4WD|    Four-Wheel Drive|    128.3| 75.2|2006|      271|     5400|          313|         3400|\n",
            "|         0.0| NULL|      78.8|Pickup Truck|       NULL|   Wood-Ridge|             14.0|          48|       707|Price includes al...|                  V6|             4200.0|                  V6|                RED|false|        false|           false|          NULL|         41.3|            26.0|         Gasoline|        false|  73.7|                19.0|     202.0|            None|false|  NULL| false|     NULL| 40.8622| 211.2| 2020-07-23|          RED| -74.0962|  ['Premium Wheels']|     Ford|            3.0|124781.0|           F-150|        3.0| 4999.0|  false|          2577|3.6470588235294117|      Auto Spot LLC.|      false|           A|           Automatic|                  XL|         RWD|    Rear-Wheel Drive|    126.0| 78.9|2007|      300|     5000|          365|         3750|\n",
            "|         0.0| Long|      97.4|Pickup Truck|       NULL|   Wood-Ridge|             NULL|          70|       707|Price includes al...|                  V8|             5400.0|                  V8|              WHITE|false|        false|           false|          NULL|         41.3|            27.0|         Gasoline|         true|  75.6|                NULL|     300.0|            None|false|  NULL| false|     NULL| 40.8622| 229.8| 2020-07-01|        WHITE| -74.0962|['Alloy Wheels', ...|     Ford|            3.0|115115.0|           F-150|        4.0| 5399.0|  false|          3643|3.6470588235294117|      Auto Spot LLC.|      false|           A|4-Speed Automatic...|          XLT LB 4WD|         4WD|    Four-Wheel Drive|    144.5| 98.6|2008|      300|     5000|          365|         3750|\n",
            "|         0.0| NULL|      76.3|Pickup Truck|       NULL|   Wood-Ridge|             NULL|          70|       707|Price includes al...|                  V6|             3700.0|                  V6|              WHITE|false|        false|           false|          NULL|         41.0|            26.0|         Gasoline|         true|  73.8|                NULL|     215.0|            None|false|  NULL| false|     NULL| 40.8622| 207.7| 2020-07-01|        WHITE| -74.0962|  ['Premium Wheels']|    Dodge|            3.0|125283.0|        RAM 1500|        5.0| 4399.0|  false|          3133|3.6470588235294117|      Auto Spot LLC.|      false|           A|4-Speed Automatic...|              ST RWD|         RWD|    Rear-Wheel Drive|    120.5| 79.6|2008|      345|     5400|          375|         4200|\n",
            "|         0.0| NULL|      78.8|Pickup Truck|       NULL|   Wood-Ridge|             14.0|          62|       707|Price includes al...|                  V6|             4200.0|                  V6|             SILVER|false|        false|           false|          NULL|         41.3|            26.0|         Gasoline|        false|  73.7|                19.0|     202.0|            None|false|  NULL| false|     NULL| 40.8622| 211.2| 2020-07-09|       SILVER| -74.0962|['Steel Wheels', ...|     Ford|            3.0|188568.0|           F-150|        1.0| 2999.0|  false|          3055|3.6470588235294117|      Auto Spot LLC.|      false|           A|           Automatic|                  XL|         RWD|    Rear-Wheel Drive|    126.0| 78.9|2007|      300|     5000|          365|         3750|\n",
            "|         0.0| Long|      78.7|Pickup Truck|       NULL|   Wood-Ridge|             15.0|          32|       707|Price includes al...|                  V8|             5300.0|                  V8|              WHITE|false|        false|           false|          NULL|         41.3|            26.0|         Gasoline|        false|  71.2|                19.0|     295.0|            None|false|  NULL| false|     NULL| 40.8622| 205.7| 2020-08-08|        WHITE| -74.0962|  ['Premium Wheels']|Chevrolet|            3.0|165338.0|  Silverado 1500|        2.0| 4999.0|  false|          2110|3.6470588235294117|      Auto Spot LLC.|      false|           A|           Automatic|      Work Truck RWD|         RWD|    Rear-Wheel Drive|    119.0| 78.5|2006|      295|     5200|          335|         4000|\n",
            "|         0.0| Long|      78.8|Pickup Truck|       NULL|   Wood-Ridge|             NULL|          89|       707|Price includes al...|                  V8|             5400.0|                  V8|             SILVER|false|        false|           false|          NULL|         41.4|            26.0|         Gasoline|         true|  76.0|                NULL|     320.0|            None|false|  NULL| false|     NULL| 40.8622| 213.1| 2020-06-12|       SILVER| -74.0962|    ['Alloy Wheels']|     Ford|            3.0|155877.0|           F-150|        4.0| 5199.0|  false|          4162|3.6470588235294117|      Auto Spot LLC.|      false|           A|6-Speed Automatic...|              XL 4WD|         4WD|    Four-Wheel Drive|    125.8| 97.0|2009|      320|     5000|          390|         3500|\n",
            "|         0.0| Long|      97.8|Pickup Truck|Regular Cab|         Lodi|             14.0|          12|       764|[!@@Additional In...|                  V8|             5300.0|                  V8|               Gray|false|        false|           false|          NULL|         41.3|            34.0|         Gasoline|        false|  73.8|                18.0|     315.0|            Gray|false|  NULL| false|     NULL| 40.8734| 224.5| 2020-08-28|         GRAY| -74.0697|                NULL|Chevrolet|            3.0|179295.0|  Silverado 1500|        1.0| 9000.0|  false|           684|               4.5|  Northeast Automall|      false|           A|   4-Speed Automatic|   Work Truck LB 4WD|         4WD|    Four-Wheel Drive|    133.0| 79.9|2009|      315|     5200|          338|         4400|\n",
            "|         0.0| Long|      98.3|Pickup Truck|       NULL|   Wood-Ridge|             NULL|         186|       707|[!@@Additional In...|                  V8|             5700.0|                  V8|                RED|false|        false|           false|          NULL|         41.0|            32.0|         Gasoline|         true|  74.1|                NULL|     390.0|            None|false|  NULL| false|     NULL| 40.8622| 226.9| 2020-03-07|          RED| -74.0962|    ['Steel Wheels']|    Dodge|            3.0|153181.0|        RAM 1500|        3.0| 4999.0|  false|          3080|3.6470588235294117|      Auto Spot LLC.|      false|           A|5-Speed Automatic...|           ST LB 4WD|         4WD|    Four-Wheel Drive|    140.0| 79.4|2009|      390|     5600|          407|         4000|\n",
            "|         0.0| NULL|      78.8|Pickup Truck|       NULL|   Wood-Ridge|             14.0|          89|       707|Price includes al...|                  V6|             4200.0|                  V6|              WHITE|false|        false|           false|          NULL|         41.3|            26.0|         Gasoline|        false|  73.5|                19.0|     202.0|            None|false|  NULL| false|     NULL| 40.8622| 211.2| 2020-06-12|        WHITE| -74.0962|    ['Alloy Wheels']|     Ford|            3.0|166986.0|           F-150|        1.0| 3199.0|  false|          2484|3.6470588235294117|      Auto Spot LLC.|      false|           A|           Automatic|       STX Styleside|         RWD|    Rear-Wheel Drive|    126.0| 78.9|2006|      231|     4750|          293|         3500|\n",
            "|         0.0| NULL|      78.7|Pickup Truck|       NULL|   Wood-Ridge|             NULL|          12|       707|Price includes al...|V8 Flex Fuel Vehicle|             5300.0|V8 Flex Fuel Vehicle|              WHITE|false|        false|           false|          NULL|         41.3|            26.0|Flex Fuel Vehicle|        false|  73.8|                NULL|     315.0|            None|false|  NULL| false|     NULL| 40.8622| 205.6| 2020-08-28|        WHITE| -74.0962|['Suspension Pack...|Chevrolet|            3.0|180034.0|  Silverado 1500|        1.0| 6999.0|  false|          2303|3.6470588235294117|      Auto Spot LLC.|      false|           A|4-Speed Automatic...|      Work Truck 4WD|         4WD|    Four-Wheel Drive|    119.0| 79.9|2010|      315|     5200|          335|         4400|\n",
            "|         0.0| NULL|      78.7|Pickup Truck|       NULL|   Wood-Ridge|             14.0|           6|       707|Price includes al...|                  V6|             4300.0|                  V6|               BLUE|false|        false|           false|          NULL|         41.3|            26.0|         Gasoline|        false|  71.2|                19.0|     195.0|            None|false|  NULL| false|     NULL| 40.8622| 205.7| 2020-09-03|         BLUE| -74.0962|  ['Premium Wheels']|Chevrolet|            3.0|154606.0|  Silverado 1500|        2.0| 5499.0|  false|          1716|3.6470588235294117|      Auto Spot LLC.|      false|           A|           Automatic|              LS RWD|         RWD|    Rear-Wheel Drive|    119.0| 78.5|2006|      295|     5200|          335|         4000|\n",
            "|         0.0| NULL|      78.8|Pickup Truck|       NULL|   Wood-Ridge|             NULL|          53|       707|Price includes al...|                  V8|             5400.0|                  V8|              WHITE|false|        false|           false|          NULL|         41.4|            26.0|         Gasoline|        false|  76.0|                NULL|     320.0|            None|false|  NULL| false|     NULL| 40.8622| 213.1| 2020-07-18|        WHITE| -74.0962|    ['Alloy Wheels']|     Ford|            3.0|146421.0|           F-150|        4.0| 7999.0|  false|          1593|3.6470588235294117|      Auto Spot LLC.|      false|           A|4-Speed Automatic...|             XLT 4WD|         4WD|    Four-Wheel Drive|    125.8| 97.0|2010|      320|     5000|          390|         3500|\n",
            "|         0.0|Short|      78.8|Pickup Truck|Regular Cab| Battle Creek|             12.0|          35|       490|4WD! Runs/drives ...|                  V8|             5400.0|                  V8|              Black|false|        false|           false|          NULL|         41.3|            26.0|         Gasoline|        false|  75.6|                16.0|     300.0|Black (Charcoal)|false|  NULL| false|     NULL| 42.3442| 211.2| 2020-08-05|        BLACK| -85.1542|                NULL|     Ford|            3.0|214861.0|           F-150|        2.0| 5400.0|  false|            31| 4.176470588235294|      Talbott Motors|      false|           A|   4-Speed Automatic|   FX4 Styleside 4WD|         4WD|    Four-Wheel Drive|    126.0| 78.9|2006|      300|     5000|          365|         3750|\n",
            "|         0.0| NULL|      78.8|Pickup Truck|       NULL|   Wood-Ridge|             14.0|          20|       707|Price includes al...|                  V6|             4200.0|                  V6|               BLUE|false|        false|           false|          NULL|         41.3|            26.0|         Gasoline|         true|  73.5|                18.0|     202.0|            None|false|  NULL| false|     NULL| 40.8622| 211.2| 2020-08-20|         BLUE| -74.0962|                NULL|     Ford|            3.0|124963.0|           F-150|        5.0| 5999.0|  false|           880|3.6470588235294117|      Auto Spot LLC.|      false|           A|           Automatic|                  XL|         RWD|    Rear-Wheel Drive|    126.0| 78.9|2005|      300|     5000|          365|         3750|\n",
            "+------------+-----+----------+------------+-----------+-------------+-----------------+------------+----------+--------------------+--------------------+-------------------+--------------------+-------------------+-----+-------------+----------------+--------------+-------------+----------------+-----------------+-------------+------+--------------------+----------+----------------+-----+------+------+---------+--------+------+-----------+-------------+---------+--------------------+---------+---------------+--------+----------------+-----------+-------+-------+--------------+------------------+--------------------+-----------+------------+--------------------+--------------------+------------+--------------------+---------+-----+----+---------+---------+-------------+-------------+\n",
            "only showing top 20 rows\n",
            "\n"
          ]
        }
      ],
      "source": [
        "# Minimum value of 'back_legroom' column is 0, which does not make sense. Investigate these rows.\n",
        "\n",
        "df.filter(df.back_legroom == 0).show()"
      ]
    },
    {
      "cell_type": "code",
      "execution_count": null,
      "metadata": {
        "colab": {
          "background_save": true
        },
        "id": "PiCJw33JUjaz"
      },
      "outputs": [],
      "source": [
        "# Above shows that all cars with legroom of 0 are pickup trucks (body_type column).\n",
        "# Replace 0 with null.\n",
        "\n",
        "df = df.withColumn(\"back_legroom\", when(col(\"back_legroom\") == 0, lit(None)).otherwise(col(\"back_legroom\")))"
      ]
    },
    {
      "cell_type": "code",
      "execution_count": null,
      "metadata": {
        "colab": {
          "base_uri": "https://localhost:8080/"
        },
        "id": "yfx7rLl6W-C_",
        "outputId": "a96ecdbc-fd63-485f-da88-c69a4d08da1b"
      },
      "outputs": [
        {
          "output_type": "stream",
          "name": "stdout",
          "text": [
            "Numerical Columns\n",
            "Column                    Type                 Null Count      Unique Value Count   Min             Max            \n",
            "====================================================================================================\n",
            "back_legroom              DoubleType()         8352            187                  3.5             49.0           \n",
            "bed_length                DoubleType()         92069           64                   41.5            98.6           \n",
            "city_fuel_economy         DoubleType()         16016           84                   8.0             127.0          \n",
            "daysonmarket              IntegerType()        0               848                  0               2150           \n",
            "engine_displacement       DoubleType()         5339            63                   700.0           8400.0         \n",
            "front_legroom             DoubleType()         5766            82                   35.8            67.0           \n",
            "fuel_tank_volume          DoubleType()         5005            160                  1.9             63.5           \n",
            "height                    DoubleType()         4975            415                  43.9            117.6          \n",
            "highway_fuel_economy      DoubleType()         16016           81                   11.0            127.0          \n",
            "horsepower                DoubleType()         5339            393                  70.0            808.0          \n",
            "latitude                  DoubleType()         0               827                  18.3467         47.5492        \n",
            "length                    DoubleType()         4975            702                  106.1           290.0          \n",
            "longitude                 DoubleType()         0               836                  -122.32         -66.0785       \n",
            "maximum_seating           DoubleType()         4976            12                   2.0             15.0           \n",
            "mileage                   DoubleType()         3557            43419                0.0             785778.0       \n",
            "owner_count               DoubleType()         45722           14                   1.0             15.0           \n",
            "price                     DoubleType()         0               27707                795.0           1390000.0      \n",
            "savings_amount            IntegerType()        0               5663                 0               95484          \n",
            "seller_rating             DoubleType()         642             407                  1.0             5.0            \n",
            "wheelbase                 DoubleType()         4975            400                  73.5            201.0          \n",
            "width                     DoubleType()         4976            259                  61.4            105.9          \n",
            "year                      IntegerType()        0               67                   1930            2021           \n",
            "hp_at_rpm                 IntegerType()        14303           384                  70              808            \n",
            "rpm_at_hp                 IntegerType()        14303           87                   516             9000           \n",
            "torque_at_rpm             IntegerType()        15350           360                  68              935            \n",
            "rpm_at_torque             IntegerType()        15350           99                   200             7500           \n",
            "\n",
            "String Columns\n",
            "Column                    Null Count      Unique Value Count   Min Length      Max Length     \n",
            "================================================================================\n",
            "bed                       99393           4                    4               7              \n",
            "body_type                 401             10                   3               15             \n",
            "cabin                     98333           5                    8               14             \n",
            "city                      0               425                  4               22             \n",
            "dealer_zip                0               227                  3               3              \n",
            "description               2543            83052                21              16644          \n",
            "engine_cylinders          2998            30                   2               25             \n",
            "engine_type               2998            30                   2               25             \n",
            "exterior_color            0               4297                 1               50             \n",
            "franchise_make            25416           41                   3               13             \n",
            "fuel_type                 2459            8                    6               22             \n",
            "interior_color            0               4934                 1               59             \n",
            "listing_color             0               15                   3               7              \n",
            "major_options             6484            21920                13              1182           \n",
            "make_name                 0               59                   3               13             \n",
            "model_name                0               843                  2               26             \n",
            "sp_name                   0               858                  6               45             \n",
            "transmission              1001            5                    1               11             \n",
            "transmission_display      1001            36                   6               34             \n",
            "trim_name                 3841            3753                 1               89             \n",
            "wheel_system              4624            6                    3               3              \n",
            "wheel_system_display      4624            6                    3               17             \n"
          ]
        }
      ],
      "source": [
        "inspect_all_columns(df)"
      ]
    },
    {
      "cell_type": "code",
      "execution_count": null,
      "metadata": {
        "id": "0tkSSwm8onQL",
        "colab": {
          "base_uri": "https://localhost:8080/"
        },
        "outputId": "8186b445-4c4f-4642-8959-5cd4a210e732"
      },
      "outputs": [
        {
          "output_type": "stream",
          "name": "stdout",
          "text": [
            "+------------+--------------------+\n",
            "|wheel_system|wheel_system_display|\n",
            "+------------+--------------------+\n",
            "|         4WD|    Four-Wheel Drive|\n",
            "|         AWD|     All-Wheel Drive|\n",
            "|         4X2|                 4X2|\n",
            "|         RWD|    Rear-Wheel Drive|\n",
            "|         FWD|   Front-Wheel Drive|\n",
            "|        NULL|                NULL|\n",
            "+------------+--------------------+\n",
            "\n",
            "+----+---------------+-----+--------+----------+----------------+-----------+--------------------+--------------+---------+--------------------+-------------+--------------------+----------+------------------+-------------------+------------+--------------------+--------------------+------------+\n",
            "| bed|      body_type|cabin|    city|dealer_zip|engine_cylinders|engine_type|      exterior_color|franchise_make|fuel_type|      interior_color|listing_color|       major_options| make_name|        model_name|            sp_name|transmission|transmission_display|           trim_name|wheel_system|\n",
            "+----+---------------+-----+--------+----------+----------------+-----------+--------------------+--------------+---------+--------------------+-------------+--------------------+----------+------------------+-------------------+------------+--------------------+--------------------+------------+\n",
            "|NULL|SUV / Crossover| NULL| Bayamon|       960|              I4|         I4|        Solar Yellow|          Jeep| Gasoline|               Black|       YELLOW|['Quick Order Pac...|      Jeep|          Renegade|  Flagship Chrysler|           A|9-Speed Automatic...|        Latitude FWD|         FWD|\n",
            "|NULL|SUV / Crossover| NULL|San Juan|       922|              I4|         I4|        Narvik Black|    Land Rover| Gasoline|       Black (Ebony)|        BLACK|['Adaptive Cruise...|Land Rover|   Discovery Sport|Land Rover San Juan|           A|9-Speed Automatic...|               S AWD|         AWD|\n",
            "|NULL|          Sedan| NULL|Guaynabo|       969|              H4|         H4|                None|          FIAT| Gasoline|                None|      UNKNOWN|['Alloy Wheels', ...|    Subaru|           WRX STI|   FIAT de San Juan|           M|      6-Speed Manual|                Base|         AWD|\n",
            "|NULL|SUV / Crossover| NULL|San Juan|       922|              V6|         V6|          Eiger Gray|    Land Rover| Gasoline|Gray (Ebony/Ebony...|         GRAY|                NULL|Land Rover|         Discovery|Land Rover San Juan|           A|8-Speed Automatic...|          V6 HSE AWD|         AWD|\n",
            "|NULL|SUV / Crossover| NULL|San Juan|       922|              I4|         I4|        Narvik Black|    Land Rover| Gasoline|       Black (Ebony)|        BLACK|['Adaptive Cruise...|Land Rover|   Discovery Sport|Land Rover San Juan|           A|9-Speed Automatic...|               S AWD|         AWD|\n",
            "|NULL|SUV / Crossover| NULL|San Juan|       922|              I4|         I4|      Kaikoura Stone|    Land Rover| Gasoline|Brown (Ebony / Eb...|      UNKNOWN|['Leather Seats',...|Land Rover| Range Rover Velar|Land Rover San Juan|           A|8-Speed Automatic...|P250 R-Dynamic S AWD|         AWD|\n",
            "|NULL|          Sedan| NULL| Bayamon|       960|              I4|         I4|        SONIC SILVER|          Jeep| Gasoline|               Black|       SILVER|['Alloy Wheels', ...|     Mazda|            MAZDA3|  Flagship Chrysler|           A|6-Speed Automatic...|           Sedan FWD|         FWD|\n",
            "|NULL|SUV / Crossover| NULL|San Juan|       922|              I4|         I4|          Fuji White|    Land Rover| Gasoline|White (Eclipse / ...|        WHITE|['Adaptive Cruise...|Land Rover| Range Rover Velar|Land Rover San Juan|           A|8-Speed Automatic...|P250 R-Dynamic S AWD|         AWD|\n",
            "|NULL|SUV / Crossover| NULL|San Juan|       922|              I4|         I4|          Eiger Gray|    Land Rover| Gasoline|       Black (Ebony)|         GRAY|['Navigation Syst...|Land Rover|   Discovery Sport|Land Rover San Juan|           A|9-Speed Automatic...|               S AWD|         AWD|\n",
            "|NULL|SUV / Crossover| NULL|San Juan|       922|              I4|         I4|              Blanco|    Land Rover| Gasoline|       Eclipse/Ebony|        WHITE|['Leather Seats',...|Land Rover|Range Rover Evoque|Land Rover San Juan|           A|9-Speed Automatic...|P300 R-Dynamic SE...|         AWD|\n",
            "|NULL|          Coupe| NULL|Guaynabo|       969|              I4|         I4|                 Red|          FIAT| Gasoline|                None|          RED|   ['Leather Seats']|Alfa Romeo|                4C|   FIAT de San Juan|           A|   6-Speed Automatic|Launch Edition Co...|         RWD|\n",
            "|NULL|SUV / Crossover| NULL|San Juan|       922|              I4|         I4|        Narvik Black|    Land Rover| Gasoline|       Black (Ebony)|        BLACK|['Convenience Pac...|Land Rover|Range Rover Evoque|Land Rover San Juan|           A|9-Speed Automatic...|          P250 S AWD|         AWD|\n",
            "|NULL|          Sedan| NULL|Guaynabo|       969|              I6|         I6|              Silver|          FIAT| Gasoline|                None|       SILVER|['Sunroof/Moonroo...|       BMW|          3 Series|   FIAT de San Juan|           A|   8-Speed Automatic|340i xDrive Sedan...|         AWD|\n",
            "|NULL|SUV / Crossover| NULL|San Juan|       922|              I4|         I4|       Aruba Premium|    Land Rover| Gasoline|Gray (Ebony / Ebony)|      UNKNOWN|['Adaptive Cruise...|Land Rover| Range Rover Velar|Land Rover San Juan|           A|8-Speed Automatic...|P250 R-Dynamic S AWD|         AWD|\n",
            "|NULL|          Sedan| NULL| Bayamon|       960|              I4|         I4|Snowflake White P...|          Jeep| Gasoline|               Black|        WHITE|['Alloy Wheels', ...|     Mazda|            MAZDA3|  Flagship Chrysler|           A|6-Speed Automatic...|           Sedan FWD|         FWD|\n",
            "|NULL|          Sedan| NULL| Bayamon|       960|              I4|         I4|Snowflake White P...|          Jeep| Gasoline|               Black|        WHITE|['Alloy Wheels', ...|     Mazda|            MAZDA3|  Flagship Chrysler|           A|6-Speed Automatic...|           Sedan FWD|         FWD|\n",
            "|NULL|SUV / Crossover| NULL|San Juan|       922|              I4|         I4|         Firenze Red|    Land Rover| Gasoline|       Black (Ebony)|          RED|['Navigation Syst...|Land Rover|   Discovery Sport|Land Rover San Juan|           A|9-Speed Automatic...|              SE AWD|         AWD|\n",
            "|NULL|SUV / Crossover| NULL|San Juan|       922|              I4|         I4|         Firenze Red|    Land Rover| Gasoline| Red (Ebony / Ebony)|          RED|['Adaptive Cruise...|Land Rover| Range Rover Velar|Land Rover San Juan|           A|8-Speed Automatic...|P250 R-Dynamic S AWD|         AWD|\n",
            "|NULL|SUV / Crossover| NULL|San Juan|       922|              I4|         I4|      Kaikoura Stone|    Land Rover| Gasoline|Brown (Ebony / Eb...|      UNKNOWN|['Adaptive Cruise...|Land Rover| Range Rover Velar|Land Rover San Juan|           A|8-Speed Automatic...|P250 R-Dynamic S AWD|         AWD|\n",
            "|NULL|SUV / Crossover| NULL|San Juan|       922|              I4|         I4|     Santorini Black|    Land Rover| Gasoline|       Black (Ebony)|        BLACK|['Navigation Syst...|Land Rover|   Discovery Sport|Land Rover San Juan|           A|9-Speed Automatic...|              SE AWD|         AWD|\n",
            "+----+---------------+-----+--------+----------+----------------+-----------+--------------------+--------------+---------+--------------------+-------------+--------------------+----------+------------------+-------------------+------------+--------------------+--------------------+------------+\n",
            "only showing top 20 rows\n",
            "\n"
          ]
        }
      ],
      "source": [
        "# Now let us further filter out columns that we don't need\n",
        "# It seems that the values in wheel_system is just an abbreviation of the values in wheel_system_display, so we can drop wheel_system_display\n",
        "\n",
        "df.select('wheel_system', 'wheel_system_display').distinct().show()\n",
        "df = df.drop('wheel_system_display')\n",
        "\n",
        "# The description is of type text data, not categorical data. Since we will not do any text analysis / natural language processing with this dataset, we\n",
        "# can drop the description column\n",
        "df = df.drop('description')\n",
        "\n",
        "string_cols = [col_name for col_name, col_type in df.dtypes if col_type == 'string']\n",
        "df[string_cols].show()"
      ]
    },
    {
      "cell_type": "code",
      "execution_count": null,
      "metadata": {
        "id": "Pmeqh6YdflmJ",
        "colab": {
          "base_uri": "https://localhost:8080/"
        },
        "outputId": "739c5851-32fa-4732-aec8-f7c781893a1a"
      },
      "outputs": [
        {
          "output_type": "stream",
          "name": "stdout",
          "text": [
            "+--------------------+--------------------+\n",
            "|         engine_type|    engine_cylinders|\n",
            "+--------------------+--------------------+\n",
            "|           I4 Diesel|           I4 Diesel|\n",
            "|           I4 Hybrid|           I4 Hybrid|\n",
            "|                  V8|                  V8|\n",
            "|V8 Flex Fuel Vehicle|V8 Flex Fuel Vehicle|\n",
            "|           I6 Diesel|           I6 Diesel|\n",
            "|                  V6|                  V6|\n",
            "|        V8 Biodiesel|        V8 Biodiesel|\n",
            "|        V6 Biodiesel|        V6 Biodiesel|\n",
            "|                  I4|                  I4|\n",
            "|           V6 Diesel|           V6 Diesel|\n",
            "|           V8 Diesel|           V8 Diesel|\n",
            "|           V8 Hybrid|           V8 Hybrid|\n",
            "|                 W12|                 W12|\n",
            "|                  I2|                  I2|\n",
            "|                  H6|                  H6|\n",
            "|                  H4|                  H4|\n",
            "|V6 Flex Fuel Vehicle|V6 Flex Fuel Vehicle|\n",
            "|                  I3|                  I3|\n",
            "|                  I5|                  I5|\n",
            "|                 V10|                 V10|\n",
            "+--------------------+--------------------+\n",
            "only showing top 20 rows\n",
            "\n"
          ]
        }
      ],
      "source": [
        "# It seems that the engine_type and engine_cylinders hold identical values for each row, so we can get rid of one of these columns.\n",
        "df.select('engine_type', 'engine_cylinders').distinct().show()\n",
        "df = df.drop('engine_cylinders')"
      ]
    },
    {
      "cell_type": "code",
      "execution_count": null,
      "metadata": {
        "id": "oH8ZtRYyfqVn",
        "colab": {
          "base_uri": "https://localhost:8080/"
        },
        "outputId": "42355a13-2926-4164-bf5f-49a07d55c1b1"
      },
      "outputs": [
        {
          "output_type": "stream",
          "name": "stdout",
          "text": [
            "+------------+----+----------+---------------+-----+--------+-----------------+------------+----------+-------------------+-----------+--------------------+-----+-------------+----------------+--------------+-------------+----------------+---------+-------------+------+--------------------+----------+--------------------+-----+------+------+---------+--------+------+-----------+-------------+---------+--------------------+----------+---------------+-------+------------------+-----------+-------+-------+--------------+-------------+-------------------+-----------+------------+--------------------+--------------------+------------+---------+-----+----+---------+---------+-------------+-------------+\n",
            "|back_legroom| bed|bed_length|      body_type|cabin|    city|city_fuel_economy|daysonmarket|dealer_zip|engine_displacement|engine_type|      exterior_color|fleet|frame_damaged|franchise_dealer|franchise_make|front_legroom|fuel_tank_volume|fuel_type|has_accidents|height|highway_fuel_economy|horsepower|      interior_color|isCab|is_cpo|is_new|is_oemcpo|latitude|length|listed_date|listing_color|longitude|       major_options| make_name|maximum_seating|mileage|        model_name|owner_count|  price|salvage|savings_amount|seller_rating|            sp_name|theft_title|transmission|transmission_display|           trim_name|wheel_system|wheelbase|width|year|hp_at_rpm|rpm_at_hp|torque_at_rpm|rpm_at_torque|\n",
            "+------------+----+----------+---------------+-----+--------+-----------------+------------+----------+-------------------+-----------+--------------------+-----+-------------+----------------+--------------+-------------+----------------+---------+-------------+------+--------------------+----------+--------------------+-----+------+------+---------+--------+------+-----------+-------------+---------+--------------------+----------+---------------+-------+------------------+-----------+-------+-------+--------------+-------------+-------------------+-----------+------------+--------------------+--------------------+------------+---------+-----+----+---------+---------+-------------+-------------+\n",
            "|        35.1|NULL|      NULL|SUV / Crossover| NULL| Bayamon|             NULL|         522|       960|             1300.0|         I4|        Solar Yellow| NULL|         NULL|            true|          Jeep|         41.2|            12.7| Gasoline|         NULL|  66.5|                NULL|     177.0|               Black| NULL|  NULL|  true|     NULL| 18.3988| 166.6| 2019-04-06|       YELLOW| -66.1582|['Quick Order Pac...|      Jeep|            5.0|    7.0|          Renegade|       NULL|23141.0|   NULL|             0|          2.8|  Flagship Chrysler|       NULL|           A|9-Speed Automatic...|        Latitude FWD|         FWD|    101.2| 79.6|2019|      177|     5750|          200|         1750|\n",
            "|        38.1|NULL|      NULL|SUV / Crossover| NULL|San Juan|             NULL|         207|       922|             2000.0|         I4|        Narvik Black| NULL|         NULL|            true|    Land Rover|         39.1|            17.7| Gasoline|         NULL|  68.0|                NULL|     246.0|       Black (Ebony)| NULL|  NULL|  true|     NULL| 18.4439| 181.0| 2020-02-15|        BLACK| -66.0785|['Adaptive Cruise...|Land Rover|            7.0|    8.0|   Discovery Sport|       NULL|46500.0|   NULL|             0|          3.0|Land Rover San Juan|       NULL|           A|9-Speed Automatic...|               S AWD|         AWD|    107.9| 85.6|2020|      246|     5500|          269|         1400|\n",
            "|        35.4|NULL|      NULL|          Sedan| NULL|Guaynabo|             17.0|        1233|       969|             2500.0|         H4|                None|false|        false|            true|          FIAT|         43.3|            15.9| Gasoline|        false|  58.1|                23.0|     305.0|                None|false|  NULL| false|     NULL| 18.3467| 180.9| 2017-04-25|      UNKNOWN| -66.1098|['Alloy Wheels', ...|    Subaru|            5.0|   NULL|           WRX STI|        3.0|46995.0|  false|             0|         NULL|   FIAT de San Juan|      false|           M|      6-Speed Manual|                Base|         AWD|    104.3| 78.9|2016|      305|     6000|          290|         4000|\n",
            "|        37.6|NULL|      NULL|SUV / Crossover| NULL|San Juan|             NULL|         196|       922|             3000.0|         V6|          Eiger Gray| NULL|         NULL|            true|    Land Rover|         39.0|            23.5| Gasoline|         NULL|  73.0|                NULL|     340.0|Gray (Ebony/Ebony...| NULL|  NULL|  true|     NULL| 18.4439| 195.1| 2020-02-26|         GRAY| -66.0785|                NULL|Land Rover|            7.0|   11.0|         Discovery|       NULL|67430.0|   NULL|             0|          3.0|Land Rover San Juan|       NULL|           A|8-Speed Automatic...|          V6 HSE AWD|         AWD|    115.0| 87.4|2020|      340|     6500|          332|         3500|\n",
            "|        38.1|NULL|      NULL|SUV / Crossover| NULL|San Juan|             NULL|         137|       922|             2000.0|         I4|        Narvik Black| NULL|         NULL|            true|    Land Rover|         39.1|            17.7| Gasoline|         NULL|  68.0|                NULL|     246.0|       Black (Ebony)| NULL|  NULL|  true|     NULL| 18.4439| 181.0| 2020-04-25|        BLACK| -66.0785|['Adaptive Cruise...|Land Rover|            7.0|    7.0|   Discovery Sport|       NULL|48880.0|   NULL|             0|          3.0|Land Rover San Juan|       NULL|           A|9-Speed Automatic...|               S AWD|         AWD|    107.9| 85.6|2020|      246|     5500|          269|         1400|\n",
            "|        37.1|NULL|      NULL|SUV / Crossover| NULL|San Juan|             NULL|         242|       922|             2000.0|         I4|      Kaikoura Stone|false|        false|            true|    Land Rover|         40.2|            16.6| Gasoline|        false|  66.3|                NULL|     247.0|Brown (Ebony / Eb...|false|  NULL|  true|     NULL| 18.4439| 188.9| 2020-01-11|      UNKNOWN| -66.0785|['Leather Seats',...|Land Rover|            5.0|   12.0| Range Rover Velar|       NULL|66903.0|  false|             0|          3.0|Land Rover San Juan|      false|           A|8-Speed Automatic...|P250 R-Dynamic S AWD|         AWD|    113.1| 84.4|2020|      247|     5500|          269|         1200|\n",
            "|        35.1|NULL|      NULL|          Sedan| NULL| Bayamon|             NULL|         447|       960|             2500.0|         I4|        SONIC SILVER| NULL|         NULL|            true|          Jeep|         42.3|            13.2| Gasoline|         NULL|  56.9|                NULL|     186.0|               Black| NULL|  NULL|  true|     NULL| 18.3988| 183.5| 2019-06-20|       SILVER| -66.1582|['Alloy Wheels', ...|     Mazda|            5.0|   14.0|            MAZDA3|       NULL|23695.0|   NULL|             0|          2.8|  Flagship Chrysler|       NULL|           A|6-Speed Automatic...|           Sedan FWD|         FWD|    107.3| 70.7|2019|      186|     6000|          186|         4000|\n",
            "|        37.1|NULL|      NULL|SUV / Crossover| NULL|San Juan|             NULL|          70|       922|             2000.0|         I4|          Fuji White| NULL|         NULL|            true|    Land Rover|         40.2|            16.6| Gasoline|         NULL|  66.3|                NULL|     247.0|White (Eclipse / ...| NULL|  NULL|  true|     NULL| 18.4439| 188.9| 2020-07-01|        WHITE| -66.0785|['Adaptive Cruise...|Land Rover|            5.0|   11.0| Range Rover Velar|       NULL|68520.0|   NULL|             0|          3.0|Land Rover San Juan|       NULL|           A|8-Speed Automatic...|P250 R-Dynamic S AWD|         AWD|    113.1| 84.4|2020|      247|     5500|          269|         1200|\n",
            "|        38.1|NULL|      NULL|SUV / Crossover| NULL|San Juan|             NULL|         196|       922|             2000.0|         I4|          Eiger Gray| NULL|         NULL|            true|    Land Rover|         39.1|            17.7| Gasoline|         NULL|  68.0|                NULL|     246.0|       Black (Ebony)| NULL|  NULL|  true|     NULL| 18.4439| 181.0| 2020-02-26|         GRAY| -66.0785|['Navigation Syst...|Land Rover|            7.0|    8.0|   Discovery Sport|       NULL|51245.0|   NULL|             0|          3.0|Land Rover San Juan|       NULL|           A|9-Speed Automatic...|               S AWD|         AWD|    107.9| 85.6|2020|      246|     5500|          269|         1400|\n",
            "|        33.8|NULL|      NULL|SUV / Crossover| NULL|San Juan|             NULL|         510|       922|             2000.0|         I4|              Blanco|false|        false|            true|    Land Rover|         40.0|            17.7| Gasoline|        false|  64.9|                NULL|     296.0|       Eclipse/Ebony|false|  NULL| false|     NULL| 18.4439| 172.1| 2019-04-18|        WHITE| -66.0785|['Leather Seats',...|Land Rover|            5.0|  254.0|Range Rover Evoque|       NULL|84399.0|  false|             0|          3.0|Land Rover San Juan|      false|           A|9-Speed Automatic...|P300 R-Dynamic SE...|         AWD|    105.6| 82.7|2020|      296|     5500|          295|         1600|\n",
            "|        NULL|NULL|      NULL|          Coupe| NULL|Guaynabo|             NULL|        1252|       969|             1700.0|         I4|                 Red|false|        false|            true|          FIAT|         42.7|            10.5| Gasoline|        false|  46.6|                NULL|     237.0|                None|false|  NULL| false|     NULL| 18.3467| 157.5| 2017-04-06|          RED| -66.1098|   ['Leather Seats']|Alfa Romeo|            2.0|  301.0|                4C|        2.0|97579.0|  false|             0|         NULL|   FIAT de San Juan|      false|           A|   6-Speed Automatic|Launch Edition Co...|         RWD|     93.7| 73.5|2015|      237|     6000|          258|         4250|\n",
            "|        33.8|NULL|      NULL|SUV / Crossover| NULL|San Juan|             NULL|         179|       922|             2000.0|         I4|        Narvik Black| NULL|         NULL|            true|    Land Rover|         40.0|            17.7| Gasoline|         NULL|  64.9|                NULL|     246.0|       Black (Ebony)| NULL|  NULL|  true|     NULL| 18.4439| 172.1| 2020-03-14|        BLACK| -66.0785|['Convenience Pac...|Land Rover|            5.0|   22.0|Range Rover Evoque|       NULL|51885.0|   NULL|             0|          3.0|Land Rover San Juan|       NULL|           A|9-Speed Automatic...|          P250 S AWD|         AWD|    105.6| 82.7|2020|      246|     5500|          269|         1400|\n",
            "|        35.1|NULL|      NULL|          Sedan| NULL|Guaynabo|             22.0|        1233|       969|             3000.0|         I6|              Silver|false|        false|            true|          FIAT|         42.0|            15.8| Gasoline|        false|  56.5|                33.0|     320.0|                None|false|  NULL| false|     NULL| 18.3467| 182.5| 2017-04-25|       SILVER| -66.1098|['Sunroof/Moonroo...|       BMW|            5.0| 6903.0|          3 Series|        2.0|58995.0|  false|             0|         NULL|   FIAT de San Juan|      false|           A|   8-Speed Automatic|340i xDrive Sedan...|         AWD|    110.6| 80.0|2016|      320|     5500|          330|         1380|\n",
            "|        37.1|NULL|      NULL|SUV / Crossover| NULL|San Juan|             NULL|         201|       922|             2000.0|         I4|       Aruba Premium| NULL|         NULL|            true|    Land Rover|         40.2|            16.6| Gasoline|         NULL|  66.3|                NULL|     247.0|Gray (Ebony / Ebony)| NULL|  NULL|  true|     NULL| 18.4439| 188.9| 2020-02-21|      UNKNOWN| -66.0785|['Adaptive Cruise...|Land Rover|            5.0|   20.0| Range Rover Velar|       NULL|68725.0|   NULL|             0|          3.0|Land Rover San Juan|       NULL|           A|8-Speed Automatic...|P250 R-Dynamic S AWD|         AWD|    113.1| 84.4|2020|      247|     5500|          269|         1200|\n",
            "|        35.1|NULL|      NULL|          Sedan| NULL| Bayamon|             NULL|         447|       960|             2500.0|         I4|Snowflake White P...| NULL|         NULL|            true|          Jeep|         42.3|            13.2| Gasoline|         NULL|  56.9|                NULL|     186.0|               Black| NULL|  NULL|  true|     NULL| 18.3988| 183.5| 2019-06-20|        WHITE| -66.1582|['Alloy Wheels', ...|     Mazda|            5.0|  204.0|            MAZDA3|       NULL|23695.0|   NULL|             0|          2.8|  Flagship Chrysler|       NULL|           A|6-Speed Automatic...|           Sedan FWD|         FWD|    107.3| 70.7|2019|      186|     6000|          186|         4000|\n",
            "|        35.1|NULL|      NULL|          Sedan| NULL| Bayamon|             NULL|         447|       960|             2500.0|         I4|Snowflake White P...| NULL|         NULL|            true|          Jeep|         42.3|            13.2| Gasoline|         NULL|  56.9|                NULL|     186.0|               Black| NULL|  NULL|  true|     NULL| 18.3988| 183.5| 2019-06-20|        WHITE| -66.1582|['Alloy Wheels', ...|     Mazda|            5.0|   61.0|            MAZDA3|       NULL|23695.0|   NULL|             0|          2.8|  Flagship Chrysler|       NULL|           A|6-Speed Automatic...|           Sedan FWD|         FWD|    107.3| 70.7|2019|      186|     6000|          186|         4000|\n",
            "|        38.1|NULL|      NULL|SUV / Crossover| NULL|San Juan|             NULL|         187|       922|             2000.0|         I4|         Firenze Red| NULL|         NULL|            true|    Land Rover|         39.1|            17.7| Gasoline|         NULL|  68.0|                NULL|     246.0|       Black (Ebony)| NULL|  NULL|  true|     NULL| 18.4439| 181.0| 2020-03-06|          RED| -66.0785|['Navigation Syst...|Land Rover|            7.0|    6.0|   Discovery Sport|       NULL|52275.0|   NULL|             0|          3.0|Land Rover San Juan|       NULL|           A|9-Speed Automatic...|              SE AWD|         AWD|    107.9| 85.6|2020|      246|     5500|          269|         1400|\n",
            "|        37.1|NULL|      NULL|SUV / Crossover| NULL|San Juan|             NULL|          20|       922|             2000.0|         I4|         Firenze Red| NULL|         NULL|            true|    Land Rover|         40.2|            16.6| Gasoline|         NULL|  66.3|                NULL|     247.0| Red (Ebony / Ebony)| NULL|  NULL|  true|     NULL| 18.4439| 188.9| 2020-08-20|          RED| -66.0785|['Adaptive Cruise...|Land Rover|            5.0|    7.0| Range Rover Velar|       NULL|68760.0|   NULL|             0|          3.0|Land Rover San Juan|       NULL|           A|8-Speed Automatic...|P250 R-Dynamic S AWD|         AWD|    113.1| 84.4|2020|      247|     5500|          269|         1200|\n",
            "|        37.1|NULL|      NULL|SUV / Crossover| NULL|San Juan|             NULL|          13|       922|             2000.0|         I4|      Kaikoura Stone| NULL|         NULL|            true|    Land Rover|         40.2|            16.6| Gasoline|         NULL|  66.3|                NULL|     247.0|Brown (Ebony / Eb...| NULL|  NULL|  true|     NULL| 18.4439| 188.9| 2020-08-27|      UNKNOWN| -66.0785|['Adaptive Cruise...|Land Rover|            5.0|    5.0| Range Rover Velar|       NULL|68760.0|   NULL|             0|          3.0|Land Rover San Juan|       NULL|           A|8-Speed Automatic...|P250 R-Dynamic S AWD|         AWD|    113.1| 84.4|2020|      247|     5500|          269|         1200|\n",
            "|        38.1|NULL|      NULL|SUV / Crossover| NULL|San Juan|             NULL|         230|       922|             2000.0|         I4|     Santorini Black| NULL|         NULL|            true|    Land Rover|         39.1|            17.7| Gasoline|         NULL|  68.0|                NULL|     246.0|       Black (Ebony)| NULL|  NULL|  true|     NULL| 18.4439| 181.0| 2020-01-23|        BLACK| -66.0785|['Navigation Syst...|Land Rover|            7.0|    8.0|   Discovery Sport|       NULL|53770.0|   NULL|             0|          3.0|Land Rover San Juan|       NULL|           A|9-Speed Automatic...|              SE AWD|         AWD|    107.9| 85.6|2020|      246|     5500|          269|         1400|\n",
            "+------------+----+----------+---------------+-----+--------+-----------------+------------+----------+-------------------+-----------+--------------------+-----+-------------+----------------+--------------+-------------+----------------+---------+-------------+------+--------------------+----------+--------------------+-----+------+------+---------+--------+------+-----------+-------------+---------+--------------------+----------+---------------+-------+------------------+-----------+-------+-------+--------------+-------------+-------------------+-----------+------------+--------------------+--------------------+------------+---------+-----+----+---------+---------+-------------+-------------+\n",
            "only showing top 20 rows\n",
            "\n"
          ]
        }
      ],
      "source": [
        "df.show()"
      ]
    },
    {
      "cell_type": "code",
      "execution_count": null,
      "metadata": {
        "id": "itt39cyWfqvn",
        "colab": {
          "base_uri": "https://localhost:8080/"
        },
        "outputId": "2343b165-65a6-4fec-ecb5-13e6f648a2a1"
      },
      "outputs": [
        {
          "output_type": "stream",
          "name": "stdout",
          "text": [
            "+------------+----+----------+---------------+-----+--------+-----------------+------------+----------+-------------------+-----------+--------------------+-----+-------------+----------------+--------------+-------------+----------------+---------+-------------+------+--------------------+----------+--------------------+-----+------+------+---------+--------+------+-----------+-------------+---------+--------------------+----------+---------------+-------+------------------+-----------+-------+-------+--------------+-------------+-------------------+-----------+------------+--------------------+--------------------+------------+---------+-----+----+---------+---------+-------------+-------------+\n",
            "|back_legroom| bed|bed_length|      body_type|cabin|    city|city_fuel_economy|daysonmarket|dealer_zip|engine_displacement|engine_type|      exterior_color|fleet|frame_damaged|franchise_dealer|franchise_make|front_legroom|fuel_tank_volume|fuel_type|has_accidents|height|highway_fuel_economy|horsepower|      interior_color|isCab|is_cpo|is_new|is_oemcpo|latitude|length|listed_date|listing_color|longitude|       major_options| make_name|maximum_seating|mileage|        model_name|owner_count|  price|salvage|savings_amount|seller_rating|            sp_name|theft_title|transmission|transmission_display|           trim_name|wheel_system|wheelbase|width|year|hp_at_rpm|rpm_at_hp|torque_at_rpm|rpm_at_torque|\n",
            "+------------+----+----------+---------------+-----+--------+-----------------+------------+----------+-------------------+-----------+--------------------+-----+-------------+----------------+--------------+-------------+----------------+---------+-------------+------+--------------------+----------+--------------------+-----+------+------+---------+--------+------+-----------+-------------+---------+--------------------+----------+---------------+-------+------------------+-----------+-------+-------+--------------+-------------+-------------------+-----------+------------+--------------------+--------------------+------------+---------+-----+----+---------+---------+-------------+-------------+\n",
            "|        35.1|NULL|       0.0|SUV / Crossover| NULL| Bayamon|              0.0|         522|       960|             1300.0|         I4|        Solar Yellow|false|        false|            true|          Jeep|         41.2|            12.7| Gasoline|        false|  66.5|                 0.0|     177.0|               Black|false| false|  true|    false| 18.3988| 166.6| 2019-04-06|       YELLOW| -66.1582|['Quick Order Pac...|      Jeep|            5.0|    7.0|          Renegade|        0.0|23141.0|  false|             0|          2.8|  Flagship Chrysler|      false|           A|9-Speed Automatic...|        Latitude FWD|         FWD|    101.2| 79.6|2019|      177|     5750|          200|         1750|\n",
            "|        38.1|NULL|       0.0|SUV / Crossover| NULL|San Juan|              0.0|         207|       922|             2000.0|         I4|        Narvik Black|false|        false|            true|    Land Rover|         39.1|            17.7| Gasoline|        false|  68.0|                 0.0|     246.0|       Black (Ebony)|false| false|  true|    false| 18.4439| 181.0| 2020-02-15|        BLACK| -66.0785|['Adaptive Cruise...|Land Rover|            7.0|    8.0|   Discovery Sport|        0.0|46500.0|  false|             0|          3.0|Land Rover San Juan|      false|           A|9-Speed Automatic...|               S AWD|         AWD|    107.9| 85.6|2020|      246|     5500|          269|         1400|\n",
            "|        35.4|NULL|       0.0|          Sedan| NULL|Guaynabo|             17.0|        1233|       969|             2500.0|         H4|                None|false|        false|            true|          FIAT|         43.3|            15.9| Gasoline|        false|  58.1|                23.0|     305.0|                None|false| false| false|    false| 18.3467| 180.9| 2017-04-25|      UNKNOWN| -66.1098|['Alloy Wheels', ...|    Subaru|            5.0|    0.0|           WRX STI|        3.0|46995.0|  false|             0|          0.0|   FIAT de San Juan|      false|           M|      6-Speed Manual|                Base|         AWD|    104.3| 78.9|2016|      305|     6000|          290|         4000|\n",
            "|        37.6|NULL|       0.0|SUV / Crossover| NULL|San Juan|              0.0|         196|       922|             3000.0|         V6|          Eiger Gray|false|        false|            true|    Land Rover|         39.0|            23.5| Gasoline|        false|  73.0|                 0.0|     340.0|Gray (Ebony/Ebony...|false| false|  true|    false| 18.4439| 195.1| 2020-02-26|         GRAY| -66.0785|                NULL|Land Rover|            7.0|   11.0|         Discovery|        0.0|67430.0|  false|             0|          3.0|Land Rover San Juan|      false|           A|8-Speed Automatic...|          V6 HSE AWD|         AWD|    115.0| 87.4|2020|      340|     6500|          332|         3500|\n",
            "|        38.1|NULL|       0.0|SUV / Crossover| NULL|San Juan|              0.0|         137|       922|             2000.0|         I4|        Narvik Black|false|        false|            true|    Land Rover|         39.1|            17.7| Gasoline|        false|  68.0|                 0.0|     246.0|       Black (Ebony)|false| false|  true|    false| 18.4439| 181.0| 2020-04-25|        BLACK| -66.0785|['Adaptive Cruise...|Land Rover|            7.0|    7.0|   Discovery Sport|        0.0|48880.0|  false|             0|          3.0|Land Rover San Juan|      false|           A|9-Speed Automatic...|               S AWD|         AWD|    107.9| 85.6|2020|      246|     5500|          269|         1400|\n",
            "|        37.1|NULL|       0.0|SUV / Crossover| NULL|San Juan|              0.0|         242|       922|             2000.0|         I4|      Kaikoura Stone|false|        false|            true|    Land Rover|         40.2|            16.6| Gasoline|        false|  66.3|                 0.0|     247.0|Brown (Ebony / Eb...|false| false|  true|    false| 18.4439| 188.9| 2020-01-11|      UNKNOWN| -66.0785|['Leather Seats',...|Land Rover|            5.0|   12.0| Range Rover Velar|        0.0|66903.0|  false|             0|          3.0|Land Rover San Juan|      false|           A|8-Speed Automatic...|P250 R-Dynamic S AWD|         AWD|    113.1| 84.4|2020|      247|     5500|          269|         1200|\n",
            "|        35.1|NULL|       0.0|          Sedan| NULL| Bayamon|              0.0|         447|       960|             2500.0|         I4|        SONIC SILVER|false|        false|            true|          Jeep|         42.3|            13.2| Gasoline|        false|  56.9|                 0.0|     186.0|               Black|false| false|  true|    false| 18.3988| 183.5| 2019-06-20|       SILVER| -66.1582|['Alloy Wheels', ...|     Mazda|            5.0|   14.0|            MAZDA3|        0.0|23695.0|  false|             0|          2.8|  Flagship Chrysler|      false|           A|6-Speed Automatic...|           Sedan FWD|         FWD|    107.3| 70.7|2019|      186|     6000|          186|         4000|\n",
            "|        37.1|NULL|       0.0|SUV / Crossover| NULL|San Juan|              0.0|          70|       922|             2000.0|         I4|          Fuji White|false|        false|            true|    Land Rover|         40.2|            16.6| Gasoline|        false|  66.3|                 0.0|     247.0|White (Eclipse / ...|false| false|  true|    false| 18.4439| 188.9| 2020-07-01|        WHITE| -66.0785|['Adaptive Cruise...|Land Rover|            5.0|   11.0| Range Rover Velar|        0.0|68520.0|  false|             0|          3.0|Land Rover San Juan|      false|           A|8-Speed Automatic...|P250 R-Dynamic S AWD|         AWD|    113.1| 84.4|2020|      247|     5500|          269|         1200|\n",
            "|        38.1|NULL|       0.0|SUV / Crossover| NULL|San Juan|              0.0|         196|       922|             2000.0|         I4|          Eiger Gray|false|        false|            true|    Land Rover|         39.1|            17.7| Gasoline|        false|  68.0|                 0.0|     246.0|       Black (Ebony)|false| false|  true|    false| 18.4439| 181.0| 2020-02-26|         GRAY| -66.0785|['Navigation Syst...|Land Rover|            7.0|    8.0|   Discovery Sport|        0.0|51245.0|  false|             0|          3.0|Land Rover San Juan|      false|           A|9-Speed Automatic...|               S AWD|         AWD|    107.9| 85.6|2020|      246|     5500|          269|         1400|\n",
            "|        33.8|NULL|       0.0|SUV / Crossover| NULL|San Juan|              0.0|         510|       922|             2000.0|         I4|              Blanco|false|        false|            true|    Land Rover|         40.0|            17.7| Gasoline|        false|  64.9|                 0.0|     296.0|       Eclipse/Ebony|false| false| false|    false| 18.4439| 172.1| 2019-04-18|        WHITE| -66.0785|['Leather Seats',...|Land Rover|            5.0|  254.0|Range Rover Evoque|        0.0|84399.0|  false|             0|          3.0|Land Rover San Juan|      false|           A|9-Speed Automatic...|P300 R-Dynamic SE...|         AWD|    105.6| 82.7|2020|      296|     5500|          295|         1600|\n",
            "|         0.0|NULL|       0.0|          Coupe| NULL|Guaynabo|              0.0|        1252|       969|             1700.0|         I4|                 Red|false|        false|            true|          FIAT|         42.7|            10.5| Gasoline|        false|  46.6|                 0.0|     237.0|                None|false| false| false|    false| 18.3467| 157.5| 2017-04-06|          RED| -66.1098|   ['Leather Seats']|Alfa Romeo|            2.0|  301.0|                4C|        2.0|97579.0|  false|             0|          0.0|   FIAT de San Juan|      false|           A|   6-Speed Automatic|Launch Edition Co...|         RWD|     93.7| 73.5|2015|      237|     6000|          258|         4250|\n",
            "|        33.8|NULL|       0.0|SUV / Crossover| NULL|San Juan|              0.0|         179|       922|             2000.0|         I4|        Narvik Black|false|        false|            true|    Land Rover|         40.0|            17.7| Gasoline|        false|  64.9|                 0.0|     246.0|       Black (Ebony)|false| false|  true|    false| 18.4439| 172.1| 2020-03-14|        BLACK| -66.0785|['Convenience Pac...|Land Rover|            5.0|   22.0|Range Rover Evoque|        0.0|51885.0|  false|             0|          3.0|Land Rover San Juan|      false|           A|9-Speed Automatic...|          P250 S AWD|         AWD|    105.6| 82.7|2020|      246|     5500|          269|         1400|\n",
            "|        35.1|NULL|       0.0|          Sedan| NULL|Guaynabo|             22.0|        1233|       969|             3000.0|         I6|              Silver|false|        false|            true|          FIAT|         42.0|            15.8| Gasoline|        false|  56.5|                33.0|     320.0|                None|false| false| false|    false| 18.3467| 182.5| 2017-04-25|       SILVER| -66.1098|['Sunroof/Moonroo...|       BMW|            5.0| 6903.0|          3 Series|        2.0|58995.0|  false|             0|          0.0|   FIAT de San Juan|      false|           A|   8-Speed Automatic|340i xDrive Sedan...|         AWD|    110.6| 80.0|2016|      320|     5500|          330|         1380|\n",
            "|        37.1|NULL|       0.0|SUV / Crossover| NULL|San Juan|              0.0|         201|       922|             2000.0|         I4|       Aruba Premium|false|        false|            true|    Land Rover|         40.2|            16.6| Gasoline|        false|  66.3|                 0.0|     247.0|Gray (Ebony / Ebony)|false| false|  true|    false| 18.4439| 188.9| 2020-02-21|      UNKNOWN| -66.0785|['Adaptive Cruise...|Land Rover|            5.0|   20.0| Range Rover Velar|        0.0|68725.0|  false|             0|          3.0|Land Rover San Juan|      false|           A|8-Speed Automatic...|P250 R-Dynamic S AWD|         AWD|    113.1| 84.4|2020|      247|     5500|          269|         1200|\n",
            "|        35.1|NULL|       0.0|          Sedan| NULL| Bayamon|              0.0|         447|       960|             2500.0|         I4|Snowflake White P...|false|        false|            true|          Jeep|         42.3|            13.2| Gasoline|        false|  56.9|                 0.0|     186.0|               Black|false| false|  true|    false| 18.3988| 183.5| 2019-06-20|        WHITE| -66.1582|['Alloy Wheels', ...|     Mazda|            5.0|  204.0|            MAZDA3|        0.0|23695.0|  false|             0|          2.8|  Flagship Chrysler|      false|           A|6-Speed Automatic...|           Sedan FWD|         FWD|    107.3| 70.7|2019|      186|     6000|          186|         4000|\n",
            "|        35.1|NULL|       0.0|          Sedan| NULL| Bayamon|              0.0|         447|       960|             2500.0|         I4|Snowflake White P...|false|        false|            true|          Jeep|         42.3|            13.2| Gasoline|        false|  56.9|                 0.0|     186.0|               Black|false| false|  true|    false| 18.3988| 183.5| 2019-06-20|        WHITE| -66.1582|['Alloy Wheels', ...|     Mazda|            5.0|   61.0|            MAZDA3|        0.0|23695.0|  false|             0|          2.8|  Flagship Chrysler|      false|           A|6-Speed Automatic...|           Sedan FWD|         FWD|    107.3| 70.7|2019|      186|     6000|          186|         4000|\n",
            "|        38.1|NULL|       0.0|SUV / Crossover| NULL|San Juan|              0.0|         187|       922|             2000.0|         I4|         Firenze Red|false|        false|            true|    Land Rover|         39.1|            17.7| Gasoline|        false|  68.0|                 0.0|     246.0|       Black (Ebony)|false| false|  true|    false| 18.4439| 181.0| 2020-03-06|          RED| -66.0785|['Navigation Syst...|Land Rover|            7.0|    6.0|   Discovery Sport|        0.0|52275.0|  false|             0|          3.0|Land Rover San Juan|      false|           A|9-Speed Automatic...|              SE AWD|         AWD|    107.9| 85.6|2020|      246|     5500|          269|         1400|\n",
            "|        37.1|NULL|       0.0|SUV / Crossover| NULL|San Juan|              0.0|          20|       922|             2000.0|         I4|         Firenze Red|false|        false|            true|    Land Rover|         40.2|            16.6| Gasoline|        false|  66.3|                 0.0|     247.0| Red (Ebony / Ebony)|false| false|  true|    false| 18.4439| 188.9| 2020-08-20|          RED| -66.0785|['Adaptive Cruise...|Land Rover|            5.0|    7.0| Range Rover Velar|        0.0|68760.0|  false|             0|          3.0|Land Rover San Juan|      false|           A|8-Speed Automatic...|P250 R-Dynamic S AWD|         AWD|    113.1| 84.4|2020|      247|     5500|          269|         1200|\n",
            "|        37.1|NULL|       0.0|SUV / Crossover| NULL|San Juan|              0.0|          13|       922|             2000.0|         I4|      Kaikoura Stone|false|        false|            true|    Land Rover|         40.2|            16.6| Gasoline|        false|  66.3|                 0.0|     247.0|Brown (Ebony / Eb...|false| false|  true|    false| 18.4439| 188.9| 2020-08-27|      UNKNOWN| -66.0785|['Adaptive Cruise...|Land Rover|            5.0|    5.0| Range Rover Velar|        0.0|68760.0|  false|             0|          3.0|Land Rover San Juan|      false|           A|8-Speed Automatic...|P250 R-Dynamic S AWD|         AWD|    113.1| 84.4|2020|      247|     5500|          269|         1200|\n",
            "|        38.1|NULL|       0.0|SUV / Crossover| NULL|San Juan|              0.0|         230|       922|             2000.0|         I4|     Santorini Black|false|        false|            true|    Land Rover|         39.1|            17.7| Gasoline|        false|  68.0|                 0.0|     246.0|       Black (Ebony)|false| false|  true|    false| 18.4439| 181.0| 2020-01-23|        BLACK| -66.0785|['Navigation Syst...|Land Rover|            7.0|    8.0|   Discovery Sport|        0.0|53770.0|  false|             0|          3.0|Land Rover San Juan|      false|           A|9-Speed Automatic...|              SE AWD|         AWD|    107.9| 85.6|2020|      246|     5500|          269|         1400|\n",
            "+------------+----+----------+---------------+-----+--------+-----------------+------------+----------+-------------------+-----------+--------------------+-----+-------------+----------------+--------------+-------------+----------------+---------+-------------+------+--------------------+----------+--------------------+-----+------+------+---------+--------+------+-----------+-------------+---------+--------------------+----------+---------------+-------+------------------+-----------+-------+-------+--------------+-------------+-------------------+-----------+------------+--------------------+--------------------+------------+---------+-----+----+---------+---------+-------------+-------------+\n",
            "only showing top 20 rows\n",
            "\n"
          ]
        }
      ],
      "source": [
        "# We need to fill the null values\n",
        "# Numerical values that are null will be set to 0\n",
        "# Boolean values that are null will be set to False\n",
        "# We don't need to worry about null string values because the StringIndexer in the below cell converts\n",
        "# them to numerical values\n",
        "\n",
        "df = df.fillna(0)\n",
        "df = df.fillna(False)\n",
        "df.show()"
      ]
    },
    {
      "cell_type": "code",
      "execution_count": null,
      "metadata": {
        "id": "P11cG0Ojfsv5",
        "colab": {
          "base_uri": "https://localhost:8080/"
        },
        "outputId": "8232d514-6650-46ee-89cf-ccff51797eb1"
      },
      "outputs": [
        {
          "output_type": "stream",
          "name": "stdout",
          "text": [
            "+------------+----------+-----------------+------------+-------------------+-----+-------------+----------------+-------------+----------------+-------------+------+--------------------+----------+-----+------+------+---------+--------+------+-----------+---------+---------------+-------+-----------+-------+-------+--------------+-------------+-----------+---------+-----+----+---------+---------+-------------+-------------+---------+---------------+-----------+----------+----------------+-----------------+--------------------+--------------------+---------------+--------------------+-------------------+-------------------+---------------+----------------+-------------+------------------+--------------------------+---------------+------------------+\n",
            "|back_legroom|bed_length|city_fuel_economy|daysonmarket|engine_displacement|fleet|frame_damaged|franchise_dealer|front_legroom|fuel_tank_volume|has_accidents|height|highway_fuel_economy|horsepower|isCab|is_cpo|is_new|is_oemcpo|latitude|length|listed_date|longitude|maximum_seating|mileage|owner_count|  price|salvage|savings_amount|seller_rating|theft_title|wheelbase|width|year|hp_at_rpm|rpm_at_hp|torque_at_rpm|rpm_at_torque|bed_index|body_type_index|cabin_index|city_index|dealer_zip_index|engine_type_index|exterior_color_index|franchise_make_index|fuel_type_index|interior_color_index|listing_color_index|major_options_index|make_name_index|model_name_index|sp_name_index|transmission_index|transmission_display_index|trim_name_index|wheel_system_index|\n",
            "+------------+----------+-----------------+------------+-------------------+-----+-------------+----------------+-------------+----------------+-------------+------+--------------------+----------+-----+------+------+---------+--------+------+-----------+---------+---------------+-------+-----------+-------+-------+--------------+-------------+-----------+---------+-----+----+---------+---------+-------------+-------------+---------+---------------+-----------+----------+----------------+-----------------+--------------------+--------------------+---------------+--------------------+-------------------+-------------------+---------------+----------------+-------------+------------------+--------------------------+---------------+------------------+\n",
            "|        35.1|       0.0|              0.0|         522|             1300.0|false|        false|            true|         41.2|            12.7|        false|  66.5|                 0.0|     177.0|false| false|  true|    false| 18.3988| 166.6| 2019-04-06| -66.1582|            5.0|    7.0|        0.0|23141.0|  false|             0|          2.8|      false|    101.2| 79.6|2019|      177|     5750|          200|         1750|      3.0|            0.0|        4.0|     335.0|           188.0|              0.0|               864.0|                 2.0|            0.0|                 0.0|               11.0|               45.0|            3.0|            94.0|        611.0|               0.0|                      16.0|          536.0|               1.0|\n",
            "|        38.1|       0.0|              0.0|         207|             2000.0|false|        false|            true|         39.1|            17.7|        false|  68.0|                 0.0|     246.0|false| false|  true|    false| 18.4439| 181.0| 2020-02-15| -66.0785|            7.0|    8.0|        0.0|46500.0|  false|             0|          3.0|      false|    107.9| 85.6|2020|      246|     5500|          269|         1400|      3.0|            0.0|        4.0|     280.0|           172.0|              0.0|               175.0|                21.0|            0.0|                 2.0|                0.0|              882.0|           23.0|           103.0|        439.0|               0.0|                      16.0|            8.0|               0.0|\n",
            "|        35.4|       0.0|             17.0|        1233|             2500.0|false|        false|            true|         43.3|            15.9|        false|  58.1|                23.0|     305.0|false| false| false|    false| 18.3467| 180.9| 2017-04-25| -66.1098|            5.0|    0.0|        3.0|46995.0|  false|             0|          0.0|      false|    104.3| 78.9|2016|      305|     6000|          290|         4000|      3.0|            1.0|        4.0|     404.0|           216.0|              3.0|                 7.0|                33.0|            0.0|                 1.0|                4.0|               20.0|           10.0|           289.0|        825.0|               2.0|                       9.0|           79.0|               0.0|\n",
            "|        37.6|       0.0|              0.0|         196|             3000.0|false|        false|            true|         39.0|            23.5|        false|  73.0|                 0.0|     340.0|false| false|  true|    false| 18.4439| 195.1| 2020-02-26| -66.0785|            7.0|   11.0|        0.0|67430.0|  false|             0|          3.0|      false|    115.0| 87.4|2020|      340|     6500|          332|         3500|      3.0|            0.0|        4.0|     280.0|           172.0|              1.0|               649.0|                21.0|            0.0|              1114.0|                2.0|            21919.0|           23.0|           204.0|        439.0|               0.0|                      11.0|          434.0|               0.0|\n",
            "|        38.1|       0.0|              0.0|         137|             2000.0|false|        false|            true|         39.1|            17.7|        false|  68.0|                 0.0|     246.0|false| false|  true|    false| 18.4439| 181.0| 2020-04-25| -66.0785|            7.0|    7.0|        0.0|48880.0|  false|             0|          3.0|      false|    107.9| 85.6|2020|      246|     5500|          269|         1400|      3.0|            0.0|        4.0|     280.0|           172.0|              0.0|               175.0|                21.0|            0.0|                 2.0|                0.0|              882.0|           23.0|           103.0|        439.0|               0.0|                      16.0|            8.0|               0.0|\n",
            "|        37.1|       0.0|              0.0|         242|             2000.0|false|        false|            true|         40.2|            16.6|        false|  66.3|                 0.0|     247.0|false| false|  true|    false| 18.4439| 188.9| 2020-01-11| -66.0785|            5.0|   12.0|        0.0|66903.0|  false|             0|          3.0|      false|    113.1| 84.4|2020|      247|     5500|          269|         1200|      3.0|            0.0|        4.0|     280.0|           172.0|              0.0|              1809.0|                21.0|            0.0|              1798.0|                4.0|               44.0|           23.0|           161.0|        439.0|               0.0|                      11.0|          333.0|               0.0|\n",
            "|        35.1|       0.0|              0.0|         447|             2500.0|false|        false|            true|         42.3|            13.2|        false|  56.9|                 0.0|     186.0|false| false|  true|    false| 18.3988| 183.5| 2019-06-20| -66.1582|            5.0|   14.0|        0.0|23695.0|  false|             0|          2.8|      false|    107.3| 70.7|2019|      186|     6000|          186|         4000|      3.0|            1.0|        4.0|     335.0|           188.0|              0.0|               820.0|                 2.0|            0.0|                 0.0|                3.0|                0.0|           18.0|            86.0|        611.0|               0.0|                       5.0|          375.0|               1.0|\n",
            "|        37.1|       0.0|              0.0|          70|             2000.0|false|        false|            true|         40.2|            16.6|        false|  66.3|                 0.0|     247.0|false| false|  true|    false| 18.4439| 188.9| 2020-07-01| -66.0785|            5.0|   11.0|        0.0|68520.0|  false|             0|          3.0|      false|    113.1| 84.4|2020|      247|     5500|          269|         1200|      3.0|            0.0|        4.0|     280.0|           172.0|              0.0|                69.0|                21.0|            0.0|              1567.0|                1.0|              882.0|           23.0|           161.0|        439.0|               0.0|                      11.0|          333.0|               0.0|\n",
            "|        38.1|       0.0|              0.0|         196|             2000.0|false|        false|            true|         39.1|            17.7|        false|  68.0|                 0.0|     246.0|false| false|  true|    false| 18.4439| 181.0| 2020-02-26| -66.0785|            7.0|    8.0|        0.0|51245.0|  false|             0|          3.0|      false|    107.9| 85.6|2020|      246|     5500|          269|         1400|      3.0|            0.0|        4.0|     280.0|           172.0|              0.0|               649.0|                21.0|            0.0|                 2.0|                2.0|             5548.0|           23.0|           103.0|        439.0|               0.0|                      16.0|            8.0|               0.0|\n",
            "|        33.8|       0.0|              0.0|         510|             2000.0|false|        false|            true|         40.0|            17.7|        false|  64.9|                 0.0|     296.0|false| false| false|    false| 18.4439| 172.1| 2019-04-18| -66.0785|            5.0|  254.0|        0.0|84399.0|  false|             0|          3.0|      false|    105.6| 82.7|2020|      296|     5500|          295|         1600|      3.0|            0.0|        4.0|     280.0|           172.0|              0.0|              1477.0|                21.0|            0.0|              3468.0|                1.0|             1057.0|           23.0|           132.0|        439.0|               0.0|                      16.0|         1360.0|               0.0|\n",
            "|         0.0|       0.0|              0.0|        1252|             1700.0|false|        false|            true|         42.7|            10.5|        false|  46.6|                 0.0|     237.0|false| false| false|    false| 18.3467| 157.5| 2017-04-06| -66.1098|            2.0|  301.0|        2.0|97579.0|  false|             0|          0.0|      false|     93.7| 73.5|2015|      237|     6000|          258|         4250|      3.0|            4.0|        4.0|     404.0|           216.0|              0.0|                 8.0|                33.0|            0.0|                 1.0|                6.0|              139.0|           31.0|           721.0|        825.0|               0.0|                       2.0|         3312.0|               3.0|\n",
            "|        33.8|       0.0|              0.0|         179|             2000.0|false|        false|            true|         40.0|            17.7|        false|  64.9|                 0.0|     246.0|false| false|  true|    false| 18.4439| 172.1| 2020-03-14| -66.0785|            5.0|   22.0|        0.0|51885.0|  false|             0|          3.0|      false|    105.6| 82.7|2020|      246|     5500|          269|         1400|      3.0|            0.0|        4.0|     280.0|           172.0|              0.0|               175.0|                21.0|            0.0|                 2.0|                0.0|              608.0|           23.0|           132.0|        439.0|               0.0|                      16.0|          182.0|               0.0|\n",
            "|        35.1|       0.0|             22.0|        1233|             3000.0|false|        false|            true|         42.0|            15.8|        false|  56.5|                33.0|     320.0|false| false| false|    false| 18.3467| 182.5| 2017-04-25| -66.1098|            5.0| 6903.0|        2.0|58995.0|  false|             0|          0.0|      false|    110.6| 80.0|2016|      320|     5500|          330|         1380|      3.0|            1.0|        4.0|     404.0|           216.0|              4.0|                 3.0|                33.0|            0.0|                 1.0|                3.0|               31.0|            6.0|            18.0|        825.0|               0.0|                       3.0|          402.0|               0.0|\n",
            "|        37.1|       0.0|              0.0|         201|             2000.0|false|        false|            true|         40.2|            16.6|        false|  66.3|                 0.0|     247.0|false| false|  true|    false| 18.4439| 188.9| 2020-02-21| -66.0785|            5.0|   20.0|        0.0|68725.0|  false|             0|          3.0|      false|    113.1| 84.4|2020|      247|     5500|          269|         1200|      3.0|            0.0|        4.0|     280.0|           172.0|              0.0|              2690.0|                21.0|            0.0|               258.0|                4.0|              882.0|           23.0|           161.0|        439.0|               0.0|                      11.0|          333.0|               0.0|\n",
            "|        35.1|       0.0|              0.0|         447|             2500.0|false|        false|            true|         42.3|            13.2|        false|  56.9|                 0.0|     186.0|false| false|  true|    false| 18.3988| 183.5| 2019-06-20| -66.1582|            5.0|  204.0|        0.0|23695.0|  false|             0|          2.8|      false|    107.3| 70.7|2019|      186|     6000|          186|         4000|      3.0|            1.0|        4.0|     335.0|           188.0|              0.0|                89.0|                 2.0|            0.0|                 0.0|                1.0|                0.0|           18.0|            86.0|        611.0|               0.0|                       5.0|          375.0|               1.0|\n",
            "|        35.1|       0.0|              0.0|         447|             2500.0|false|        false|            true|         42.3|            13.2|        false|  56.9|                 0.0|     186.0|false| false|  true|    false| 18.3988| 183.5| 2019-06-20| -66.1582|            5.0|   61.0|        0.0|23695.0|  false|             0|          2.8|      false|    107.3| 70.7|2019|      186|     6000|          186|         4000|      3.0|            1.0|        4.0|     335.0|           188.0|              0.0|                89.0|                 2.0|            0.0|                 0.0|                1.0|                0.0|           18.0|            86.0|        611.0|               0.0|                       5.0|          375.0|               1.0|\n",
            "|        38.1|       0.0|              0.0|         187|             2000.0|false|        false|            true|         39.1|            17.7|        false|  68.0|                 0.0|     246.0|false| false|  true|    false| 18.4439| 181.0| 2020-03-06| -66.0785|            7.0|    6.0|        0.0|52275.0|  false|             0|          3.0|      false|    107.9| 85.6|2020|      246|     5500|          269|         1400|      3.0|            0.0|        4.0|     280.0|           172.0|              0.0|               606.0|                21.0|            0.0|                 2.0|                6.0|              155.0|           23.0|           103.0|        439.0|               0.0|                      16.0|            2.0|               0.0|\n",
            "|        37.1|       0.0|              0.0|          20|             2000.0|false|        false|            true|         40.2|            16.6|        false|  66.3|                 0.0|     247.0|false| false|  true|    false| 18.4439| 188.9| 2020-08-20| -66.0785|            5.0|    7.0|        0.0|68760.0|  false|             0|          3.0|      false|    113.1| 84.4|2020|      247|     5500|          269|         1200|      3.0|            0.0|        4.0|     280.0|           172.0|              0.0|               606.0|                21.0|            0.0|              1156.0|                6.0|             4135.0|           23.0|           161.0|        439.0|               0.0|                      11.0|          333.0|               0.0|\n",
            "|        37.1|       0.0|              0.0|          13|             2000.0|false|        false|            true|         40.2|            16.6|        false|  66.3|                 0.0|     247.0|false| false|  true|    false| 18.4439| 188.9| 2020-08-27| -66.0785|            5.0|    5.0|        0.0|68760.0|  false|             0|          3.0|      false|    113.1| 84.4|2020|      247|     5500|          269|         1200|      3.0|            0.0|        4.0|     280.0|           172.0|              0.0|              1809.0|                21.0|            0.0|              1798.0|                4.0|             4135.0|           23.0|           161.0|        439.0|               0.0|                      11.0|          333.0|               0.0|\n",
            "|        38.1|       0.0|              0.0|         230|             2000.0|false|        false|            true|         39.1|            17.7|        false|  68.0|                 0.0|     246.0|false| false|  true|    false| 18.4439| 181.0| 2020-01-23| -66.0785|            7.0|    8.0|        0.0|53770.0|  false|             0|          3.0|      false|    107.9| 85.6|2020|      246|     5500|          269|         1400|      3.0|            0.0|        4.0|     280.0|           172.0|              0.0|               119.0|                21.0|            0.0|                 2.0|                0.0|             1841.0|           23.0|           103.0|        439.0|               0.0|                      16.0|            2.0|               0.0|\n",
            "+------------+----------+-----------------+------------+-------------------+-----+-------------+----------------+-------------+----------------+-------------+------+--------------------+----------+-----+------+------+---------+--------+------+-----------+---------+---------------+-------+-----------+-------+-------+--------------+-------------+-----------+---------+-----+----+---------+---------+-------------+-------------+---------+---------------+-----------+----------+----------------+-----------------+--------------------+--------------------+---------------+--------------------+-------------------+-------------------+---------------+----------------+-------------+------------------+--------------------------+---------------+------------------+\n",
            "only showing top 20 rows\n",
            "\n"
          ]
        }
      ],
      "source": [
        "# String columns cannot be used by the models of PySpark’s MLlib library, we need to encode them. In each of our string columns,\n",
        "# their values have no inherent hierarchy, so they are all nominal. Nominal features can be encoded using one-hot encoding, so\n",
        "# we used PySpark’s OneHotEncoder and CountVectorizer to encode them.\n",
        "\n",
        "# Source: https://stackoverflow.com/questions/36942233/apply-stringindexer-to-several-columns-in-a-pyspark-dataframe\n",
        "from pyspark.ml import Pipeline\n",
        "from pyspark.ml.feature import StringIndexer\n",
        "\n",
        "string_cols = [col_name for col_name, col_type in df.dtypes if col_type == 'string']\n",
        "\n",
        "indexers = [StringIndexer(inputCol=column, outputCol=column+\"_index\", handleInvalid='keep').fit(df) for column in string_cols]\n",
        "pipeline = Pipeline(stages=indexers)\n",
        "df_indexed = pipeline.fit(df).transform(df)\n",
        "df_indexed = df_indexed.drop(*string_cols)\n",
        "df_indexed.show()"
      ]
    },
    {
      "cell_type": "code",
      "execution_count": null,
      "metadata": {
        "id": "1JdkTbAvfyLG",
        "colab": {
          "base_uri": "https://localhost:8080/"
        },
        "outputId": "d11c7a5a-3353-4543-e3f5-cbb333ba64c5"
      },
      "outputs": [
        {
          "output_type": "stream",
          "name": "stdout",
          "text": [
            "+------------+----------+-----------------+------------+-------------------+-----+-------------+----------------+-------------+----------------+-------------+------+--------------------+----------+-----+------+------+---------+--------+------+-----------+---------+---------------+-------+-----------+-------+-------+--------------+-------------+-----------+---------+-----+----+---------+---------+-------------+-------------+----------------+----------------------+------------------+-----------------+-----------------------+------------------------+---------------------------+---------------------------+----------------------+---------------------------+--------------------------+--------------------------+----------------------+-----------------------+--------------------+-------------------------+---------------------------------+----------------------+-------------------------+\n",
            "|back_legroom|bed_length|city_fuel_economy|daysonmarket|engine_displacement|fleet|frame_damaged|franchise_dealer|front_legroom|fuel_tank_volume|has_accidents|height|highway_fuel_economy|horsepower|isCab|is_cpo|is_new|is_oemcpo|latitude|length|listed_date|longitude|maximum_seating|mileage|owner_count|  price|salvage|savings_amount|seller_rating|theft_title|wheelbase|width|year|hp_at_rpm|rpm_at_hp|torque_at_rpm|rpm_at_torque|bed_index_onehot|body_type_index_onehot|cabin_index_onehot|city_index_onehot|dealer_zip_index_onehot|engine_type_index_onehot|exterior_color_index_onehot|franchise_make_index_onehot|fuel_type_index_onehot|interior_color_index_onehot|listing_color_index_onehot|major_options_index_onehot|make_name_index_onehot|model_name_index_onehot|sp_name_index_onehot|transmission_index_onehot|transmission_display_index_onehot|trim_name_index_onehot|wheel_system_index_onehot|\n",
            "+------------+----------+-----------------+------------+-------------------+-----+-------------+----------------+-------------+----------------+-------------+------+--------------------+----------+-----+------+------+---------+--------+------+-----------+---------+---------------+-------+-----------+-------+-------+--------------+-------------+-----------+---------+-----+----+---------+---------+-------------+-------------+----------------+----------------------+------------------+-----------------+-----------------------+------------------------+---------------------------+---------------------------+----------------------+---------------------------+--------------------------+--------------------------+----------------------+-----------------------+--------------------+-------------------------+---------------------------------+----------------------+-------------------------+\n",
            "|        35.1|       0.0|              0.0|         522|             1300.0|false|        false|            true|         41.2|            12.7|        false|  66.5|                 0.0|     177.0|false| false|  true|    false| 18.3988| 166.6| 2019-04-06| -66.1582|            5.0|    7.0|        0.0|23141.0|  false|             0|          2.8|      false|    101.2| 79.6|2019|      177|     5750|          200|         1750|   (4,[3],[1.0])|        (10,[0],[1.0])|     (5,[4],[1.0])|(426,[335],[1.0])|      (228,[188],[1.0])|          (30,[0],[1.0])|         (4298,[864],[1.0])|             (41,[2],[1.0])|         (8,[0],[1.0])|           (4935,[0],[1.0])|           (16,[11],[1.0])|        (21920,[45],[1.0])|        (60,[3],[1.0])|       (844,[94],[1.0])|   (859,[611],[1.0])|            (5,[0],[1.0])|                  (36,[16],[1.0])|    (3753,[536],[1.0])|            (6,[1],[1.0])|\n",
            "|        38.1|       0.0|              0.0|         207|             2000.0|false|        false|            true|         39.1|            17.7|        false|  68.0|                 0.0|     246.0|false| false|  true|    false| 18.4439| 181.0| 2020-02-15| -66.0785|            7.0|    8.0|        0.0|46500.0|  false|             0|          3.0|      false|    107.9| 85.6|2020|      246|     5500|          269|         1400|   (4,[3],[1.0])|        (10,[0],[1.0])|     (5,[4],[1.0])|(426,[280],[1.0])|      (228,[172],[1.0])|          (30,[0],[1.0])|         (4298,[175],[1.0])|            (41,[21],[1.0])|         (8,[0],[1.0])|           (4935,[2],[1.0])|            (16,[0],[1.0])|       (21920,[882],[1.0])|       (60,[23],[1.0])|      (844,[103],[1.0])|   (859,[439],[1.0])|            (5,[0],[1.0])|                  (36,[16],[1.0])|      (3753,[8],[1.0])|            (6,[0],[1.0])|\n",
            "|        35.4|       0.0|             17.0|        1233|             2500.0|false|        false|            true|         43.3|            15.9|        false|  58.1|                23.0|     305.0|false| false| false|    false| 18.3467| 180.9| 2017-04-25| -66.1098|            5.0|    0.0|        3.0|46995.0|  false|             0|          0.0|      false|    104.3| 78.9|2016|      305|     6000|          290|         4000|   (4,[3],[1.0])|        (10,[1],[1.0])|     (5,[4],[1.0])|(426,[404],[1.0])|      (228,[216],[1.0])|          (30,[3],[1.0])|           (4298,[7],[1.0])|            (41,[33],[1.0])|         (8,[0],[1.0])|           (4935,[1],[1.0])|            (16,[4],[1.0])|        (21920,[20],[1.0])|       (60,[10],[1.0])|      (844,[289],[1.0])|   (859,[825],[1.0])|            (5,[2],[1.0])|                   (36,[9],[1.0])|     (3753,[79],[1.0])|            (6,[0],[1.0])|\n",
            "|        37.6|       0.0|              0.0|         196|             3000.0|false|        false|            true|         39.0|            23.5|        false|  73.0|                 0.0|     340.0|false| false|  true|    false| 18.4439| 195.1| 2020-02-26| -66.0785|            7.0|   11.0|        0.0|67430.0|  false|             0|          3.0|      false|    115.0| 87.4|2020|      340|     6500|          332|         3500|   (4,[3],[1.0])|        (10,[0],[1.0])|     (5,[4],[1.0])|(426,[280],[1.0])|      (228,[172],[1.0])|          (30,[1],[1.0])|         (4298,[649],[1.0])|            (41,[21],[1.0])|         (8,[0],[1.0])|        (4935,[1114],[1.0])|            (16,[2],[1.0])|      (21920,[21919],[1...|       (60,[23],[1.0])|      (844,[204],[1.0])|   (859,[439],[1.0])|            (5,[0],[1.0])|                  (36,[11],[1.0])|    (3753,[434],[1.0])|            (6,[0],[1.0])|\n",
            "|        38.1|       0.0|              0.0|         137|             2000.0|false|        false|            true|         39.1|            17.7|        false|  68.0|                 0.0|     246.0|false| false|  true|    false| 18.4439| 181.0| 2020-04-25| -66.0785|            7.0|    7.0|        0.0|48880.0|  false|             0|          3.0|      false|    107.9| 85.6|2020|      246|     5500|          269|         1400|   (4,[3],[1.0])|        (10,[0],[1.0])|     (5,[4],[1.0])|(426,[280],[1.0])|      (228,[172],[1.0])|          (30,[0],[1.0])|         (4298,[175],[1.0])|            (41,[21],[1.0])|         (8,[0],[1.0])|           (4935,[2],[1.0])|            (16,[0],[1.0])|       (21920,[882],[1.0])|       (60,[23],[1.0])|      (844,[103],[1.0])|   (859,[439],[1.0])|            (5,[0],[1.0])|                  (36,[16],[1.0])|      (3753,[8],[1.0])|            (6,[0],[1.0])|\n",
            "|        37.1|       0.0|              0.0|         242|             2000.0|false|        false|            true|         40.2|            16.6|        false|  66.3|                 0.0|     247.0|false| false|  true|    false| 18.4439| 188.9| 2020-01-11| -66.0785|            5.0|   12.0|        0.0|66903.0|  false|             0|          3.0|      false|    113.1| 84.4|2020|      247|     5500|          269|         1200|   (4,[3],[1.0])|        (10,[0],[1.0])|     (5,[4],[1.0])|(426,[280],[1.0])|      (228,[172],[1.0])|          (30,[0],[1.0])|        (4298,[1809],[1.0])|            (41,[21],[1.0])|         (8,[0],[1.0])|        (4935,[1798],[1.0])|            (16,[4],[1.0])|        (21920,[44],[1.0])|       (60,[23],[1.0])|      (844,[161],[1.0])|   (859,[439],[1.0])|            (5,[0],[1.0])|                  (36,[11],[1.0])|    (3753,[333],[1.0])|            (6,[0],[1.0])|\n",
            "|        35.1|       0.0|              0.0|         447|             2500.0|false|        false|            true|         42.3|            13.2|        false|  56.9|                 0.0|     186.0|false| false|  true|    false| 18.3988| 183.5| 2019-06-20| -66.1582|            5.0|   14.0|        0.0|23695.0|  false|             0|          2.8|      false|    107.3| 70.7|2019|      186|     6000|          186|         4000|   (4,[3],[1.0])|        (10,[1],[1.0])|     (5,[4],[1.0])|(426,[335],[1.0])|      (228,[188],[1.0])|          (30,[0],[1.0])|         (4298,[820],[1.0])|             (41,[2],[1.0])|         (8,[0],[1.0])|           (4935,[0],[1.0])|            (16,[3],[1.0])|         (21920,[0],[1.0])|       (60,[18],[1.0])|       (844,[86],[1.0])|   (859,[611],[1.0])|            (5,[0],[1.0])|                   (36,[5],[1.0])|    (3753,[375],[1.0])|            (6,[1],[1.0])|\n",
            "|        37.1|       0.0|              0.0|          70|             2000.0|false|        false|            true|         40.2|            16.6|        false|  66.3|                 0.0|     247.0|false| false|  true|    false| 18.4439| 188.9| 2020-07-01| -66.0785|            5.0|   11.0|        0.0|68520.0|  false|             0|          3.0|      false|    113.1| 84.4|2020|      247|     5500|          269|         1200|   (4,[3],[1.0])|        (10,[0],[1.0])|     (5,[4],[1.0])|(426,[280],[1.0])|      (228,[172],[1.0])|          (30,[0],[1.0])|          (4298,[69],[1.0])|            (41,[21],[1.0])|         (8,[0],[1.0])|        (4935,[1567],[1.0])|            (16,[1],[1.0])|       (21920,[882],[1.0])|       (60,[23],[1.0])|      (844,[161],[1.0])|   (859,[439],[1.0])|            (5,[0],[1.0])|                  (36,[11],[1.0])|    (3753,[333],[1.0])|            (6,[0],[1.0])|\n",
            "|        38.1|       0.0|              0.0|         196|             2000.0|false|        false|            true|         39.1|            17.7|        false|  68.0|                 0.0|     246.0|false| false|  true|    false| 18.4439| 181.0| 2020-02-26| -66.0785|            7.0|    8.0|        0.0|51245.0|  false|             0|          3.0|      false|    107.9| 85.6|2020|      246|     5500|          269|         1400|   (4,[3],[1.0])|        (10,[0],[1.0])|     (5,[4],[1.0])|(426,[280],[1.0])|      (228,[172],[1.0])|          (30,[0],[1.0])|         (4298,[649],[1.0])|            (41,[21],[1.0])|         (8,[0],[1.0])|           (4935,[2],[1.0])|            (16,[2],[1.0])|      (21920,[5548],[1.0])|       (60,[23],[1.0])|      (844,[103],[1.0])|   (859,[439],[1.0])|            (5,[0],[1.0])|                  (36,[16],[1.0])|      (3753,[8],[1.0])|            (6,[0],[1.0])|\n",
            "|        33.8|       0.0|              0.0|         510|             2000.0|false|        false|            true|         40.0|            17.7|        false|  64.9|                 0.0|     296.0|false| false| false|    false| 18.4439| 172.1| 2019-04-18| -66.0785|            5.0|  254.0|        0.0|84399.0|  false|             0|          3.0|      false|    105.6| 82.7|2020|      296|     5500|          295|         1600|   (4,[3],[1.0])|        (10,[0],[1.0])|     (5,[4],[1.0])|(426,[280],[1.0])|      (228,[172],[1.0])|          (30,[0],[1.0])|        (4298,[1477],[1.0])|            (41,[21],[1.0])|         (8,[0],[1.0])|        (4935,[3468],[1.0])|            (16,[1],[1.0])|      (21920,[1057],[1.0])|       (60,[23],[1.0])|      (844,[132],[1.0])|   (859,[439],[1.0])|            (5,[0],[1.0])|                  (36,[16],[1.0])|   (3753,[1360],[1.0])|            (6,[0],[1.0])|\n",
            "|         0.0|       0.0|              0.0|        1252|             1700.0|false|        false|            true|         42.7|            10.5|        false|  46.6|                 0.0|     237.0|false| false| false|    false| 18.3467| 157.5| 2017-04-06| -66.1098|            2.0|  301.0|        2.0|97579.0|  false|             0|          0.0|      false|     93.7| 73.5|2015|      237|     6000|          258|         4250|   (4,[3],[1.0])|        (10,[4],[1.0])|     (5,[4],[1.0])|(426,[404],[1.0])|      (228,[216],[1.0])|          (30,[0],[1.0])|           (4298,[8],[1.0])|            (41,[33],[1.0])|         (8,[0],[1.0])|           (4935,[1],[1.0])|            (16,[6],[1.0])|       (21920,[139],[1.0])|       (60,[31],[1.0])|      (844,[721],[1.0])|   (859,[825],[1.0])|            (5,[0],[1.0])|                   (36,[2],[1.0])|   (3753,[3312],[1.0])|            (6,[3],[1.0])|\n",
            "|        33.8|       0.0|              0.0|         179|             2000.0|false|        false|            true|         40.0|            17.7|        false|  64.9|                 0.0|     246.0|false| false|  true|    false| 18.4439| 172.1| 2020-03-14| -66.0785|            5.0|   22.0|        0.0|51885.0|  false|             0|          3.0|      false|    105.6| 82.7|2020|      246|     5500|          269|         1400|   (4,[3],[1.0])|        (10,[0],[1.0])|     (5,[4],[1.0])|(426,[280],[1.0])|      (228,[172],[1.0])|          (30,[0],[1.0])|         (4298,[175],[1.0])|            (41,[21],[1.0])|         (8,[0],[1.0])|           (4935,[2],[1.0])|            (16,[0],[1.0])|       (21920,[608],[1.0])|       (60,[23],[1.0])|      (844,[132],[1.0])|   (859,[439],[1.0])|            (5,[0],[1.0])|                  (36,[16],[1.0])|    (3753,[182],[1.0])|            (6,[0],[1.0])|\n",
            "|        35.1|       0.0|             22.0|        1233|             3000.0|false|        false|            true|         42.0|            15.8|        false|  56.5|                33.0|     320.0|false| false| false|    false| 18.3467| 182.5| 2017-04-25| -66.1098|            5.0| 6903.0|        2.0|58995.0|  false|             0|          0.0|      false|    110.6| 80.0|2016|      320|     5500|          330|         1380|   (4,[3],[1.0])|        (10,[1],[1.0])|     (5,[4],[1.0])|(426,[404],[1.0])|      (228,[216],[1.0])|          (30,[4],[1.0])|           (4298,[3],[1.0])|            (41,[33],[1.0])|         (8,[0],[1.0])|           (4935,[1],[1.0])|            (16,[3],[1.0])|        (21920,[31],[1.0])|        (60,[6],[1.0])|       (844,[18],[1.0])|   (859,[825],[1.0])|            (5,[0],[1.0])|                   (36,[3],[1.0])|    (3753,[402],[1.0])|            (6,[0],[1.0])|\n",
            "|        37.1|       0.0|              0.0|         201|             2000.0|false|        false|            true|         40.2|            16.6|        false|  66.3|                 0.0|     247.0|false| false|  true|    false| 18.4439| 188.9| 2020-02-21| -66.0785|            5.0|   20.0|        0.0|68725.0|  false|             0|          3.0|      false|    113.1| 84.4|2020|      247|     5500|          269|         1200|   (4,[3],[1.0])|        (10,[0],[1.0])|     (5,[4],[1.0])|(426,[280],[1.0])|      (228,[172],[1.0])|          (30,[0],[1.0])|        (4298,[2690],[1.0])|            (41,[21],[1.0])|         (8,[0],[1.0])|         (4935,[258],[1.0])|            (16,[4],[1.0])|       (21920,[882],[1.0])|       (60,[23],[1.0])|      (844,[161],[1.0])|   (859,[439],[1.0])|            (5,[0],[1.0])|                  (36,[11],[1.0])|    (3753,[333],[1.0])|            (6,[0],[1.0])|\n",
            "|        35.1|       0.0|              0.0|         447|             2500.0|false|        false|            true|         42.3|            13.2|        false|  56.9|                 0.0|     186.0|false| false|  true|    false| 18.3988| 183.5| 2019-06-20| -66.1582|            5.0|  204.0|        0.0|23695.0|  false|             0|          2.8|      false|    107.3| 70.7|2019|      186|     6000|          186|         4000|   (4,[3],[1.0])|        (10,[1],[1.0])|     (5,[4],[1.0])|(426,[335],[1.0])|      (228,[188],[1.0])|          (30,[0],[1.0])|          (4298,[89],[1.0])|             (41,[2],[1.0])|         (8,[0],[1.0])|           (4935,[0],[1.0])|            (16,[1],[1.0])|         (21920,[0],[1.0])|       (60,[18],[1.0])|       (844,[86],[1.0])|   (859,[611],[1.0])|            (5,[0],[1.0])|                   (36,[5],[1.0])|    (3753,[375],[1.0])|            (6,[1],[1.0])|\n",
            "|        35.1|       0.0|              0.0|         447|             2500.0|false|        false|            true|         42.3|            13.2|        false|  56.9|                 0.0|     186.0|false| false|  true|    false| 18.3988| 183.5| 2019-06-20| -66.1582|            5.0|   61.0|        0.0|23695.0|  false|             0|          2.8|      false|    107.3| 70.7|2019|      186|     6000|          186|         4000|   (4,[3],[1.0])|        (10,[1],[1.0])|     (5,[4],[1.0])|(426,[335],[1.0])|      (228,[188],[1.0])|          (30,[0],[1.0])|          (4298,[89],[1.0])|             (41,[2],[1.0])|         (8,[0],[1.0])|           (4935,[0],[1.0])|            (16,[1],[1.0])|         (21920,[0],[1.0])|       (60,[18],[1.0])|       (844,[86],[1.0])|   (859,[611],[1.0])|            (5,[0],[1.0])|                   (36,[5],[1.0])|    (3753,[375],[1.0])|            (6,[1],[1.0])|\n",
            "|        38.1|       0.0|              0.0|         187|             2000.0|false|        false|            true|         39.1|            17.7|        false|  68.0|                 0.0|     246.0|false| false|  true|    false| 18.4439| 181.0| 2020-03-06| -66.0785|            7.0|    6.0|        0.0|52275.0|  false|             0|          3.0|      false|    107.9| 85.6|2020|      246|     5500|          269|         1400|   (4,[3],[1.0])|        (10,[0],[1.0])|     (5,[4],[1.0])|(426,[280],[1.0])|      (228,[172],[1.0])|          (30,[0],[1.0])|         (4298,[606],[1.0])|            (41,[21],[1.0])|         (8,[0],[1.0])|           (4935,[2],[1.0])|            (16,[6],[1.0])|       (21920,[155],[1.0])|       (60,[23],[1.0])|      (844,[103],[1.0])|   (859,[439],[1.0])|            (5,[0],[1.0])|                  (36,[16],[1.0])|      (3753,[2],[1.0])|            (6,[0],[1.0])|\n",
            "|        37.1|       0.0|              0.0|          20|             2000.0|false|        false|            true|         40.2|            16.6|        false|  66.3|                 0.0|     247.0|false| false|  true|    false| 18.4439| 188.9| 2020-08-20| -66.0785|            5.0|    7.0|        0.0|68760.0|  false|             0|          3.0|      false|    113.1| 84.4|2020|      247|     5500|          269|         1200|   (4,[3],[1.0])|        (10,[0],[1.0])|     (5,[4],[1.0])|(426,[280],[1.0])|      (228,[172],[1.0])|          (30,[0],[1.0])|         (4298,[606],[1.0])|            (41,[21],[1.0])|         (8,[0],[1.0])|        (4935,[1156],[1.0])|            (16,[6],[1.0])|      (21920,[4135],[1.0])|       (60,[23],[1.0])|      (844,[161],[1.0])|   (859,[439],[1.0])|            (5,[0],[1.0])|                  (36,[11],[1.0])|    (3753,[333],[1.0])|            (6,[0],[1.0])|\n",
            "|        37.1|       0.0|              0.0|          13|             2000.0|false|        false|            true|         40.2|            16.6|        false|  66.3|                 0.0|     247.0|false| false|  true|    false| 18.4439| 188.9| 2020-08-27| -66.0785|            5.0|    5.0|        0.0|68760.0|  false|             0|          3.0|      false|    113.1| 84.4|2020|      247|     5500|          269|         1200|   (4,[3],[1.0])|        (10,[0],[1.0])|     (5,[4],[1.0])|(426,[280],[1.0])|      (228,[172],[1.0])|          (30,[0],[1.0])|        (4298,[1809],[1.0])|            (41,[21],[1.0])|         (8,[0],[1.0])|        (4935,[1798],[1.0])|            (16,[4],[1.0])|      (21920,[4135],[1.0])|       (60,[23],[1.0])|      (844,[161],[1.0])|   (859,[439],[1.0])|            (5,[0],[1.0])|                  (36,[11],[1.0])|    (3753,[333],[1.0])|            (6,[0],[1.0])|\n",
            "|        38.1|       0.0|              0.0|         230|             2000.0|false|        false|            true|         39.1|            17.7|        false|  68.0|                 0.0|     246.0|false| false|  true|    false| 18.4439| 181.0| 2020-01-23| -66.0785|            7.0|    8.0|        0.0|53770.0|  false|             0|          3.0|      false|    107.9| 85.6|2020|      246|     5500|          269|         1400|   (4,[3],[1.0])|        (10,[0],[1.0])|     (5,[4],[1.0])|(426,[280],[1.0])|      (228,[172],[1.0])|          (30,[0],[1.0])|         (4298,[119],[1.0])|            (41,[21],[1.0])|         (8,[0],[1.0])|           (4935,[2],[1.0])|            (16,[0],[1.0])|      (21920,[1841],[1.0])|       (60,[23],[1.0])|      (844,[103],[1.0])|   (859,[439],[1.0])|            (5,[0],[1.0])|                  (36,[16],[1.0])|      (3753,[2],[1.0])|            (6,[0],[1.0])|\n",
            "+------------+----------+-----------------+------------+-------------------+-----+-------------+----------------+-------------+----------------+-------------+------+--------------------+----------+-----+------+------+---------+--------+------+-----------+---------+---------------+-------+-----------+-------+-------+--------------+-------------+-----------+---------+-----+----+---------+---------+-------------+-------------+----------------+----------------------+------------------+-----------------+-----------------------+------------------------+---------------------------+---------------------------+----------------------+---------------------------+--------------------------+--------------------------+----------------------+-----------------------+--------------------+-------------------------+---------------------------------+----------------------+-------------------------+\n",
            "only showing top 20 rows\n",
            "\n"
          ]
        }
      ],
      "source": [
        "from pyspark.ml.feature import OneHotEncoder\n",
        "\n",
        "indexed_cols = list(map(lambda x : x + '_index', string_cols))\n",
        "\n",
        "encoders = [OneHotEncoder(inputCol=column, outputCol=column+'_onehot', handleInvalid='keep').fit(df_indexed) for column in indexed_cols]\n",
        "pipeline = Pipeline(stages=encoders)\n",
        "df_encoded = pipeline.fit(df_indexed).transform(df_indexed)\n",
        "df_encoded = df_encoded.drop(*indexed_cols)\n",
        "df_encoded.show()"
      ]
    },
    {
      "cell_type": "code",
      "execution_count": null,
      "metadata": {
        "id": "K0Aethwdf2Bv"
      },
      "outputs": [],
      "source": [
        "# Convert date to unix timestamp\n",
        "from pyspark.sql.functions import unix_timestamp\n",
        "df_encoded = df_encoded.withColumn(\"listed_date\", unix_timestamp(\"listed_date\", \"yyyy-MM-dd\"))"
      ]
    },
    {
      "cell_type": "code",
      "execution_count": null,
      "metadata": {
        "id": "0mHtJVQXf3nM",
        "colab": {
          "base_uri": "https://localhost:8080/"
        },
        "outputId": "ce8fd35b-863c-4d16-c358-14aab28c551f"
      },
      "outputs": [
        {
          "output_type": "stream",
          "name": "stdout",
          "text": [
            "+------------+----------+-----------------+------------+-------------------+-----+-------------+----------------+-------------+----------------+-------------+------+--------------------+----------+-----+------+------+---------+--------+------+-----------+---------+---------------+-------+-----------+-------+-------+--------------+-------------+-----------+---------+-----+----+---------+---------+-------------+-------------+----------------+----------------------+------------------+-----------------+-----------------------+------------------------+---------------------------+---------------------------+----------------------+---------------------------+--------------------------+--------------------------+----------------------+-----------------------+--------------------+-------------------------+---------------------------------+----------------------+-------------------------+--------------------+\n",
            "|back_legroom|bed_length|city_fuel_economy|daysonmarket|engine_displacement|fleet|frame_damaged|franchise_dealer|front_legroom|fuel_tank_volume|has_accidents|height|highway_fuel_economy|horsepower|isCab|is_cpo|is_new|is_oemcpo|latitude|length|listed_date|longitude|maximum_seating|mileage|owner_count|  price|salvage|savings_amount|seller_rating|theft_title|wheelbase|width|year|hp_at_rpm|rpm_at_hp|torque_at_rpm|rpm_at_torque|bed_index_onehot|body_type_index_onehot|cabin_index_onehot|city_index_onehot|dealer_zip_index_onehot|engine_type_index_onehot|exterior_color_index_onehot|franchise_make_index_onehot|fuel_type_index_onehot|interior_color_index_onehot|listing_color_index_onehot|major_options_index_onehot|make_name_index_onehot|model_name_index_onehot|sp_name_index_onehot|transmission_index_onehot|transmission_display_index_onehot|trim_name_index_onehot|wheel_system_index_onehot|            features|\n",
            "+------------+----------+-----------------+------------+-------------------+-----+-------------+----------------+-------------+----------------+-------------+------+--------------------+----------+-----+------+------+---------+--------+------+-----------+---------+---------------+-------+-----------+-------+-------+--------------+-------------+-----------+---------+-----+----+---------+---------+-------------+-------------+----------------+----------------------+------------------+-----------------+-----------------------+------------------------+---------------------------+---------------------------+----------------------+---------------------------+--------------------------+--------------------------+----------------------+-----------------------+--------------------+-------------------------+---------------------------------+----------------------+-------------------------+--------------------+\n",
            "|        35.1|       0.0|              0.0|         522|             1300.0|false|        false|            true|         41.2|            12.7|        false|  66.5|                 0.0|     177.0|false| false|  true|    false| 18.3988| 166.6| 1554508800| -66.1582|            5.0|    7.0|        0.0|23141.0|  false|             0|          2.8|      false|    101.2| 79.6|2019|      177|     5750|          200|         1750|   (4,[3],[1.0])|        (10,[0],[1.0])|     (5,[4],[1.0])|(426,[335],[1.0])|      (228,[188],[1.0])|          (30,[0],[1.0])|         (4298,[864],[1.0])|             (41,[2],[1.0])|         (8,[0],[1.0])|           (4935,[0],[1.0])|           (16,[11],[1.0])|        (21920,[45],[1.0])|        (60,[3],[1.0])|       (844,[94],[1.0])|   (859,[611],[1.0])|            (5,[0],[1.0])|                  (36,[16],[1.0])|    (3753,[536],[1.0])|            (6,[1],[1.0])|(37520,[0,3,4,7,8...|\n",
            "|        38.1|       0.0|              0.0|         207|             2000.0|false|        false|            true|         39.1|            17.7|        false|  68.0|                 0.0|     246.0|false| false|  true|    false| 18.4439| 181.0| 1581724800| -66.0785|            7.0|    8.0|        0.0|46500.0|  false|             0|          3.0|      false|    107.9| 85.6|2020|      246|     5500|          269|         1400|   (4,[3],[1.0])|        (10,[0],[1.0])|     (5,[4],[1.0])|(426,[280],[1.0])|      (228,[172],[1.0])|          (30,[0],[1.0])|         (4298,[175],[1.0])|            (41,[21],[1.0])|         (8,[0],[1.0])|           (4935,[2],[1.0])|            (16,[0],[1.0])|       (21920,[882],[1.0])|       (60,[23],[1.0])|      (844,[103],[1.0])|   (859,[439],[1.0])|            (5,[0],[1.0])|                  (36,[16],[1.0])|      (3753,[8],[1.0])|            (6,[0],[1.0])|(37520,[0,3,4,7,8...|\n",
            "|        35.4|       0.0|             17.0|        1233|             2500.0|false|        false|            true|         43.3|            15.9|        false|  58.1|                23.0|     305.0|false| false| false|    false| 18.3467| 180.9| 1493078400| -66.1098|            5.0|    0.0|        3.0|46995.0|  false|             0|          0.0|      false|    104.3| 78.9|2016|      305|     6000|          290|         4000|   (4,[3],[1.0])|        (10,[1],[1.0])|     (5,[4],[1.0])|(426,[404],[1.0])|      (228,[216],[1.0])|          (30,[3],[1.0])|           (4298,[7],[1.0])|            (41,[33],[1.0])|         (8,[0],[1.0])|           (4935,[1],[1.0])|            (16,[4],[1.0])|        (21920,[20],[1.0])|       (60,[10],[1.0])|      (844,[289],[1.0])|   (859,[825],[1.0])|            (5,[2],[1.0])|                   (36,[9],[1.0])|     (3753,[79],[1.0])|            (6,[0],[1.0])|(37520,[0,2,3,4,7...|\n",
            "|        37.6|       0.0|              0.0|         196|             3000.0|false|        false|            true|         39.0|            23.5|        false|  73.0|                 0.0|     340.0|false| false|  true|    false| 18.4439| 195.1| 1582675200| -66.0785|            7.0|   11.0|        0.0|67430.0|  false|             0|          3.0|      false|    115.0| 87.4|2020|      340|     6500|          332|         3500|   (4,[3],[1.0])|        (10,[0],[1.0])|     (5,[4],[1.0])|(426,[280],[1.0])|      (228,[172],[1.0])|          (30,[1],[1.0])|         (4298,[649],[1.0])|            (41,[21],[1.0])|         (8,[0],[1.0])|        (4935,[1114],[1.0])|            (16,[2],[1.0])|      (21920,[21919],[1...|       (60,[23],[1.0])|      (844,[204],[1.0])|   (859,[439],[1.0])|            (5,[0],[1.0])|                  (36,[11],[1.0])|    (3753,[434],[1.0])|            (6,[0],[1.0])|(37520,[0,3,4,7,8...|\n",
            "|        38.1|       0.0|              0.0|         137|             2000.0|false|        false|            true|         39.1|            17.7|        false|  68.0|                 0.0|     246.0|false| false|  true|    false| 18.4439| 181.0| 1587772800| -66.0785|            7.0|    7.0|        0.0|48880.0|  false|             0|          3.0|      false|    107.9| 85.6|2020|      246|     5500|          269|         1400|   (4,[3],[1.0])|        (10,[0],[1.0])|     (5,[4],[1.0])|(426,[280],[1.0])|      (228,[172],[1.0])|          (30,[0],[1.0])|         (4298,[175],[1.0])|            (41,[21],[1.0])|         (8,[0],[1.0])|           (4935,[2],[1.0])|            (16,[0],[1.0])|       (21920,[882],[1.0])|       (60,[23],[1.0])|      (844,[103],[1.0])|   (859,[439],[1.0])|            (5,[0],[1.0])|                  (36,[16],[1.0])|      (3753,[8],[1.0])|            (6,[0],[1.0])|(37520,[0,3,4,7,8...|\n",
            "|        37.1|       0.0|              0.0|         242|             2000.0|false|        false|            true|         40.2|            16.6|        false|  66.3|                 0.0|     247.0|false| false|  true|    false| 18.4439| 188.9| 1578700800| -66.0785|            5.0|   12.0|        0.0|66903.0|  false|             0|          3.0|      false|    113.1| 84.4|2020|      247|     5500|          269|         1200|   (4,[3],[1.0])|        (10,[0],[1.0])|     (5,[4],[1.0])|(426,[280],[1.0])|      (228,[172],[1.0])|          (30,[0],[1.0])|        (4298,[1809],[1.0])|            (41,[21],[1.0])|         (8,[0],[1.0])|        (4935,[1798],[1.0])|            (16,[4],[1.0])|        (21920,[44],[1.0])|       (60,[23],[1.0])|      (844,[161],[1.0])|   (859,[439],[1.0])|            (5,[0],[1.0])|                  (36,[11],[1.0])|    (3753,[333],[1.0])|            (6,[0],[1.0])|(37520,[0,3,4,7,8...|\n",
            "|        35.1|       0.0|              0.0|         447|             2500.0|false|        false|            true|         42.3|            13.2|        false|  56.9|                 0.0|     186.0|false| false|  true|    false| 18.3988| 183.5| 1560988800| -66.1582|            5.0|   14.0|        0.0|23695.0|  false|             0|          2.8|      false|    107.3| 70.7|2019|      186|     6000|          186|         4000|   (4,[3],[1.0])|        (10,[1],[1.0])|     (5,[4],[1.0])|(426,[335],[1.0])|      (228,[188],[1.0])|          (30,[0],[1.0])|         (4298,[820],[1.0])|             (41,[2],[1.0])|         (8,[0],[1.0])|           (4935,[0],[1.0])|            (16,[3],[1.0])|         (21920,[0],[1.0])|       (60,[18],[1.0])|       (844,[86],[1.0])|   (859,[611],[1.0])|            (5,[0],[1.0])|                   (36,[5],[1.0])|    (3753,[375],[1.0])|            (6,[1],[1.0])|(37520,[0,3,4,7,8...|\n",
            "|        37.1|       0.0|              0.0|          70|             2000.0|false|        false|            true|         40.2|            16.6|        false|  66.3|                 0.0|     247.0|false| false|  true|    false| 18.4439| 188.9| 1593561600| -66.0785|            5.0|   11.0|        0.0|68520.0|  false|             0|          3.0|      false|    113.1| 84.4|2020|      247|     5500|          269|         1200|   (4,[3],[1.0])|        (10,[0],[1.0])|     (5,[4],[1.0])|(426,[280],[1.0])|      (228,[172],[1.0])|          (30,[0],[1.0])|          (4298,[69],[1.0])|            (41,[21],[1.0])|         (8,[0],[1.0])|        (4935,[1567],[1.0])|            (16,[1],[1.0])|       (21920,[882],[1.0])|       (60,[23],[1.0])|      (844,[161],[1.0])|   (859,[439],[1.0])|            (5,[0],[1.0])|                  (36,[11],[1.0])|    (3753,[333],[1.0])|            (6,[0],[1.0])|(37520,[0,3,4,7,8...|\n",
            "|        38.1|       0.0|              0.0|         196|             2000.0|false|        false|            true|         39.1|            17.7|        false|  68.0|                 0.0|     246.0|false| false|  true|    false| 18.4439| 181.0| 1582675200| -66.0785|            7.0|    8.0|        0.0|51245.0|  false|             0|          3.0|      false|    107.9| 85.6|2020|      246|     5500|          269|         1400|   (4,[3],[1.0])|        (10,[0],[1.0])|     (5,[4],[1.0])|(426,[280],[1.0])|      (228,[172],[1.0])|          (30,[0],[1.0])|         (4298,[649],[1.0])|            (41,[21],[1.0])|         (8,[0],[1.0])|           (4935,[2],[1.0])|            (16,[2],[1.0])|      (21920,[5548],[1.0])|       (60,[23],[1.0])|      (844,[103],[1.0])|   (859,[439],[1.0])|            (5,[0],[1.0])|                  (36,[16],[1.0])|      (3753,[8],[1.0])|            (6,[0],[1.0])|(37520,[0,3,4,7,8...|\n",
            "|        33.8|       0.0|              0.0|         510|             2000.0|false|        false|            true|         40.0|            17.7|        false|  64.9|                 0.0|     296.0|false| false| false|    false| 18.4439| 172.1| 1555545600| -66.0785|            5.0|  254.0|        0.0|84399.0|  false|             0|          3.0|      false|    105.6| 82.7|2020|      296|     5500|          295|         1600|   (4,[3],[1.0])|        (10,[0],[1.0])|     (5,[4],[1.0])|(426,[280],[1.0])|      (228,[172],[1.0])|          (30,[0],[1.0])|        (4298,[1477],[1.0])|            (41,[21],[1.0])|         (8,[0],[1.0])|        (4935,[3468],[1.0])|            (16,[1],[1.0])|      (21920,[1057],[1.0])|       (60,[23],[1.0])|      (844,[132],[1.0])|   (859,[439],[1.0])|            (5,[0],[1.0])|                  (36,[16],[1.0])|   (3753,[1360],[1.0])|            (6,[0],[1.0])|(37520,[0,3,4,7,8...|\n",
            "|         0.0|       0.0|              0.0|        1252|             1700.0|false|        false|            true|         42.7|            10.5|        false|  46.6|                 0.0|     237.0|false| false| false|    false| 18.3467| 157.5| 1491436800| -66.1098|            2.0|  301.0|        2.0|97579.0|  false|             0|          0.0|      false|     93.7| 73.5|2015|      237|     6000|          258|         4250|   (4,[3],[1.0])|        (10,[4],[1.0])|     (5,[4],[1.0])|(426,[404],[1.0])|      (228,[216],[1.0])|          (30,[0],[1.0])|           (4298,[8],[1.0])|            (41,[33],[1.0])|         (8,[0],[1.0])|           (4935,[1],[1.0])|            (16,[6],[1.0])|       (21920,[139],[1.0])|       (60,[31],[1.0])|      (844,[721],[1.0])|   (859,[825],[1.0])|            (5,[0],[1.0])|                   (36,[2],[1.0])|   (3753,[3312],[1.0])|            (6,[3],[1.0])|(37520,[3,4,7,8,9...|\n",
            "|        33.8|       0.0|              0.0|         179|             2000.0|false|        false|            true|         40.0|            17.7|        false|  64.9|                 0.0|     246.0|false| false|  true|    false| 18.4439| 172.1| 1584144000| -66.0785|            5.0|   22.0|        0.0|51885.0|  false|             0|          3.0|      false|    105.6| 82.7|2020|      246|     5500|          269|         1400|   (4,[3],[1.0])|        (10,[0],[1.0])|     (5,[4],[1.0])|(426,[280],[1.0])|      (228,[172],[1.0])|          (30,[0],[1.0])|         (4298,[175],[1.0])|            (41,[21],[1.0])|         (8,[0],[1.0])|           (4935,[2],[1.0])|            (16,[0],[1.0])|       (21920,[608],[1.0])|       (60,[23],[1.0])|      (844,[132],[1.0])|   (859,[439],[1.0])|            (5,[0],[1.0])|                  (36,[16],[1.0])|    (3753,[182],[1.0])|            (6,[0],[1.0])|(37520,[0,3,4,7,8...|\n",
            "|        35.1|       0.0|             22.0|        1233|             3000.0|false|        false|            true|         42.0|            15.8|        false|  56.5|                33.0|     320.0|false| false| false|    false| 18.3467| 182.5| 1493078400| -66.1098|            5.0| 6903.0|        2.0|58995.0|  false|             0|          0.0|      false|    110.6| 80.0|2016|      320|     5500|          330|         1380|   (4,[3],[1.0])|        (10,[1],[1.0])|     (5,[4],[1.0])|(426,[404],[1.0])|      (228,[216],[1.0])|          (30,[4],[1.0])|           (4298,[3],[1.0])|            (41,[33],[1.0])|         (8,[0],[1.0])|           (4935,[1],[1.0])|            (16,[3],[1.0])|        (21920,[31],[1.0])|        (60,[6],[1.0])|       (844,[18],[1.0])|   (859,[825],[1.0])|            (5,[0],[1.0])|                   (36,[3],[1.0])|    (3753,[402],[1.0])|            (6,[0],[1.0])|(37520,[0,2,3,4,7...|\n",
            "|        37.1|       0.0|              0.0|         201|             2000.0|false|        false|            true|         40.2|            16.6|        false|  66.3|                 0.0|     247.0|false| false|  true|    false| 18.4439| 188.9| 1582243200| -66.0785|            5.0|   20.0|        0.0|68725.0|  false|             0|          3.0|      false|    113.1| 84.4|2020|      247|     5500|          269|         1200|   (4,[3],[1.0])|        (10,[0],[1.0])|     (5,[4],[1.0])|(426,[280],[1.0])|      (228,[172],[1.0])|          (30,[0],[1.0])|        (4298,[2690],[1.0])|            (41,[21],[1.0])|         (8,[0],[1.0])|         (4935,[258],[1.0])|            (16,[4],[1.0])|       (21920,[882],[1.0])|       (60,[23],[1.0])|      (844,[161],[1.0])|   (859,[439],[1.0])|            (5,[0],[1.0])|                  (36,[11],[1.0])|    (3753,[333],[1.0])|            (6,[0],[1.0])|(37520,[0,3,4,7,8...|\n",
            "|        35.1|       0.0|              0.0|         447|             2500.0|false|        false|            true|         42.3|            13.2|        false|  56.9|                 0.0|     186.0|false| false|  true|    false| 18.3988| 183.5| 1560988800| -66.1582|            5.0|  204.0|        0.0|23695.0|  false|             0|          2.8|      false|    107.3| 70.7|2019|      186|     6000|          186|         4000|   (4,[3],[1.0])|        (10,[1],[1.0])|     (5,[4],[1.0])|(426,[335],[1.0])|      (228,[188],[1.0])|          (30,[0],[1.0])|          (4298,[89],[1.0])|             (41,[2],[1.0])|         (8,[0],[1.0])|           (4935,[0],[1.0])|            (16,[1],[1.0])|         (21920,[0],[1.0])|       (60,[18],[1.0])|       (844,[86],[1.0])|   (859,[611],[1.0])|            (5,[0],[1.0])|                   (36,[5],[1.0])|    (3753,[375],[1.0])|            (6,[1],[1.0])|(37520,[0,3,4,7,8...|\n",
            "|        35.1|       0.0|              0.0|         447|             2500.0|false|        false|            true|         42.3|            13.2|        false|  56.9|                 0.0|     186.0|false| false|  true|    false| 18.3988| 183.5| 1560988800| -66.1582|            5.0|   61.0|        0.0|23695.0|  false|             0|          2.8|      false|    107.3| 70.7|2019|      186|     6000|          186|         4000|   (4,[3],[1.0])|        (10,[1],[1.0])|     (5,[4],[1.0])|(426,[335],[1.0])|      (228,[188],[1.0])|          (30,[0],[1.0])|          (4298,[89],[1.0])|             (41,[2],[1.0])|         (8,[0],[1.0])|           (4935,[0],[1.0])|            (16,[1],[1.0])|         (21920,[0],[1.0])|       (60,[18],[1.0])|       (844,[86],[1.0])|   (859,[611],[1.0])|            (5,[0],[1.0])|                   (36,[5],[1.0])|    (3753,[375],[1.0])|            (6,[1],[1.0])|(37520,[0,3,4,7,8...|\n",
            "|        38.1|       0.0|              0.0|         187|             2000.0|false|        false|            true|         39.1|            17.7|        false|  68.0|                 0.0|     246.0|false| false|  true|    false| 18.4439| 181.0| 1583452800| -66.0785|            7.0|    6.0|        0.0|52275.0|  false|             0|          3.0|      false|    107.9| 85.6|2020|      246|     5500|          269|         1400|   (4,[3],[1.0])|        (10,[0],[1.0])|     (5,[4],[1.0])|(426,[280],[1.0])|      (228,[172],[1.0])|          (30,[0],[1.0])|         (4298,[606],[1.0])|            (41,[21],[1.0])|         (8,[0],[1.0])|           (4935,[2],[1.0])|            (16,[6],[1.0])|       (21920,[155],[1.0])|       (60,[23],[1.0])|      (844,[103],[1.0])|   (859,[439],[1.0])|            (5,[0],[1.0])|                  (36,[16],[1.0])|      (3753,[2],[1.0])|            (6,[0],[1.0])|(37520,[0,3,4,7,8...|\n",
            "|        37.1|       0.0|              0.0|          20|             2000.0|false|        false|            true|         40.2|            16.6|        false|  66.3|                 0.0|     247.0|false| false|  true|    false| 18.4439| 188.9| 1597881600| -66.0785|            5.0|    7.0|        0.0|68760.0|  false|             0|          3.0|      false|    113.1| 84.4|2020|      247|     5500|          269|         1200|   (4,[3],[1.0])|        (10,[0],[1.0])|     (5,[4],[1.0])|(426,[280],[1.0])|      (228,[172],[1.0])|          (30,[0],[1.0])|         (4298,[606],[1.0])|            (41,[21],[1.0])|         (8,[0],[1.0])|        (4935,[1156],[1.0])|            (16,[6],[1.0])|      (21920,[4135],[1.0])|       (60,[23],[1.0])|      (844,[161],[1.0])|   (859,[439],[1.0])|            (5,[0],[1.0])|                  (36,[11],[1.0])|    (3753,[333],[1.0])|            (6,[0],[1.0])|(37520,[0,3,4,7,8...|\n",
            "|        37.1|       0.0|              0.0|          13|             2000.0|false|        false|            true|         40.2|            16.6|        false|  66.3|                 0.0|     247.0|false| false|  true|    false| 18.4439| 188.9| 1598486400| -66.0785|            5.0|    5.0|        0.0|68760.0|  false|             0|          3.0|      false|    113.1| 84.4|2020|      247|     5500|          269|         1200|   (4,[3],[1.0])|        (10,[0],[1.0])|     (5,[4],[1.0])|(426,[280],[1.0])|      (228,[172],[1.0])|          (30,[0],[1.0])|        (4298,[1809],[1.0])|            (41,[21],[1.0])|         (8,[0],[1.0])|        (4935,[1798],[1.0])|            (16,[4],[1.0])|      (21920,[4135],[1.0])|       (60,[23],[1.0])|      (844,[161],[1.0])|   (859,[439],[1.0])|            (5,[0],[1.0])|                  (36,[11],[1.0])|    (3753,[333],[1.0])|            (6,[0],[1.0])|(37520,[0,3,4,7,8...|\n",
            "|        38.1|       0.0|              0.0|         230|             2000.0|false|        false|            true|         39.1|            17.7|        false|  68.0|                 0.0|     246.0|false| false|  true|    false| 18.4439| 181.0| 1579737600| -66.0785|            7.0|    8.0|        0.0|53770.0|  false|             0|          3.0|      false|    107.9| 85.6|2020|      246|     5500|          269|         1400|   (4,[3],[1.0])|        (10,[0],[1.0])|     (5,[4],[1.0])|(426,[280],[1.0])|      (228,[172],[1.0])|          (30,[0],[1.0])|         (4298,[119],[1.0])|            (41,[21],[1.0])|         (8,[0],[1.0])|           (4935,[2],[1.0])|            (16,[0],[1.0])|      (21920,[1841],[1.0])|       (60,[23],[1.0])|      (844,[103],[1.0])|   (859,[439],[1.0])|            (5,[0],[1.0])|                  (36,[16],[1.0])|      (3753,[2],[1.0])|            (6,[0],[1.0])|(37520,[0,3,4,7,8...|\n",
            "+------------+----------+-----------------+------------+-------------------+-----+-------------+----------------+-------------+----------------+-------------+------+--------------------+----------+-----+------+------+---------+--------+------+-----------+---------+---------------+-------+-----------+-------+-------+--------------+-------------+-----------+---------+-----+----+---------+---------+-------------+-------------+----------------+----------------------+------------------+-----------------+-----------------------+------------------------+---------------------------+---------------------------+----------------------+---------------------------+--------------------------+--------------------------+----------------------+-----------------------+--------------------+-------------------------+---------------------------------+----------------------+-------------------------+--------------------+\n",
            "only showing top 20 rows\n",
            "\n"
          ]
        }
      ],
      "source": [
        "# pyspark.ml models require the data to be transformed using a VectorAssembler\n",
        "from pyspark.ml.feature import VectorAssembler\n",
        "\n",
        "feature_names = df_encoded.drop(*(string_cols + indexed_cols + ['price'])).columns\n",
        "assembler = VectorAssembler(inputCols=feature_names, outputCol='features', handleInvalid='keep')\n",
        "\n",
        "df_assembler = assembler.transform(df_encoded)\n",
        "df_assembler.show()\n"
      ]
    },
    {
      "cell_type": "markdown",
      "metadata": {
        "id": "sDZnlIE_f5qQ"
      },
      "source": [
        "# Model Building and Hyperparameter Tuning"
      ]
    },
    {
      "cell_type": "code",
      "execution_count": null,
      "metadata": {
        "id": "DnZheN9vf6V9"
      },
      "outputs": [],
      "source": [
        "# Let us build a linear regression model for this data\n",
        "from pyspark.ml.regression import LinearRegression\n",
        "\n",
        "data = df_assembler.select('features', 'price')\n",
        "train_data, test_data = data.randomSplit([0.75, 0.25], seed=42)\n",
        "lr_model = LinearRegression(featuresCol='features', labelCol='price', predictionCol='prediction')\n",
        "\n",
        "# fit linear regression model to data\n",
        "lr_model = lr_model.fit(train_data)"
      ]
    },
    {
      "cell_type": "code",
      "execution_count": null,
      "metadata": {
        "colab": {
          "base_uri": "https://localhost:8080/"
        },
        "id": "4LsO3bG2f8nw",
        "outputId": "286ee814-d302-4604-9e79-cd233638d1a0"
      },
      "outputs": [
        {
          "name": "stdout",
          "output_type": "stream",
          "text": [
            "Root Mean Squared Error (RMSE) on training data: 2512.376\n",
            "R-squared (R2) on training data: 0.984\n",
            "\n",
            "\n",
            "Root Mean Squared Error (RMSE) on test data: 12790.756\n",
            "R-squared (R2) on test data: 0.691\n"
          ]
        }
      ],
      "source": [
        "# Print out the train and test results of our linear regression model\n",
        "\n",
        "lr_train_rmse = lr_model.summary.rootMeanSquaredError\n",
        "lr_train_r2 = lr_model.summary.r2\n",
        "print(\"Root Mean Squared Error (RMSE) on training data: {:.3f}\".format(lr_train_rmse))\n",
        "print(\"R-squared (R2) on training data: {:.3f}\".format(lr_train_r2))\n",
        "print('\\n')\n",
        "\n",
        "# Source: https://www.machinelearningplus.com/pyspark/pyspark-linear-regression/\n",
        "from pyspark.ml.evaluation import RegressionEvaluator\n",
        "\n",
        "predictions = lr_model.transform(test_data)\n",
        "\n",
        "evaluator = RegressionEvaluator(labelCol=\"price\", predictionCol=\"prediction\", metricName=\"rmse\")\n",
        "lr_test_rmse = evaluator.evaluate(predictions)\n",
        "print(\"Root Mean Squared Error (RMSE) on test data: {:.3f}\".format(lr_test_rmse))\n",
        "\n",
        "evaluator_r2 = RegressionEvaluator(labelCol=\"price\", predictionCol=\"prediction\", metricName=\"r2\")\n",
        "lr_test_r2 = evaluator_r2.evaluate(predictions)\n",
        "print(\"R-squared (R2) on test data: {:.3f}\".format(lr_test_r2))"
      ]
    },
    {
      "cell_type": "code",
      "execution_count": null,
      "metadata": {
        "colab": {
          "base_uri": "https://localhost:8080/"
        },
        "id": "98Dn7zYgf-u3",
        "outputId": "9b6915a1-42ba-4404-ccc7-a53e16535f75"
      },
      "outputs": [
        {
          "name": "stdout",
          "output_type": "stream",
          "text": [
            "Optimal regularization parameter:  10.0\n"
          ]
        }
      ],
      "source": [
        "# It seems that our linear regression model is overfitting on the training data, since there is a large difference between the train\n",
        "# and test r2 scores.\n",
        "# Let's try out a linear model that does regularization, such as lasso regression.\n",
        "# We will carry out hyperparameter tuning (using grid search and cross validation), to find the most optimal value for the L1 regularization parameter.\n",
        "# Source: https://www.machinelearningplus.com/pyspark/pyspark-lasso-regression/\n",
        "\n",
        "from pyspark.ml.tuning import CrossValidator, ParamGridBuilder\n",
        "\n",
        "lasso_regression = LinearRegression(featuresCol='features', labelCol='price', predictionCol='prediction', elasticNetParam=1)\n",
        "\n",
        "# Define the hyperparameter grid\n",
        "param_grid = ParamGridBuilder() \\\n",
        "    .addGrid(lasso_regression.regParam, [1.0, 10, 100, 1000]) \\\n",
        "    .build()\n",
        "\n",
        "# Create the cross-validator\n",
        "evaluator = RegressionEvaluator(predictionCol=\"prediction\", labelCol= 'price', metricName=\"r2\")\n",
        "cross_validator = CrossValidator(estimator=lasso_regression,\n",
        "                                 estimatorParamMaps=param_grid,\n",
        "                                 evaluator=evaluator,\n",
        "                                 numFolds=5)\n",
        "\n",
        "# Train the model with the best hyperparameters\n",
        "cv_model = cross_validator.fit(train_data)\n",
        "lasso_model = cv_model.bestModel\n",
        "\n",
        "print(\"Optimal regularization parameter: \", lasso_model.getRegParam())"
      ]
    },
    {
      "cell_type": "code",
      "execution_count": null,
      "metadata": {
        "colab": {
          "base_uri": "https://localhost:8080/"
        },
        "id": "JzEwLqmMgCMa",
        "outputId": "73ee9346-13e2-4dc6-c095-5c02bef95908"
      },
      "outputs": [
        {
          "name": "stdout",
          "output_type": "stream",
          "text": [
            "Root Mean Squared Error (RMSE) on training data: 2988.879\n",
            "R-squared (R2) on training data: 0.978\n",
            "\n",
            "\n",
            "Root Mean Squared Error (RMSE) on test data: 12361.408\n",
            "R-squared (R2) on test data: 0.711\n"
          ]
        }
      ],
      "source": [
        "# Print out the train and test results of our ridge regression model\n",
        "\n",
        "lasso_train_rmse = lasso_model.summary.rootMeanSquaredError\n",
        "lasso_train_r2 = lasso_model.summary.r2\n",
        "print(\"Root Mean Squared Error (RMSE) on training data: {:.3f}\".format(lasso_train_rmse))\n",
        "print(\"R-squared (R2) on training data: {:.3f}\".format(lasso_train_r2))\n",
        "print('\\n')\n",
        "\n",
        "predictions = lasso_model.transform(test_data)\n",
        "\n",
        "evaluator = RegressionEvaluator(labelCol=\"price\", predictionCol=\"prediction\", metricName=\"rmse\")\n",
        "lasso_test_rmse = evaluator.evaluate(predictions)\n",
        "print(\"Root Mean Squared Error (RMSE) on test data: {:.3f}\".format(lasso_test_rmse))\n",
        "\n",
        "evaluator_r2 = RegressionEvaluator(labelCol=\"price\", predictionCol=\"prediction\", metricName=\"r2\")\n",
        "lasso_test_r2 = evaluator_r2.evaluate(predictions)\n",
        "print(\"R-squared (R2) on test data: {:.3f}\".format(lasso_test_r2))"
      ]
    },
    {
      "cell_type": "code",
      "execution_count": null,
      "metadata": {
        "colab": {
          "base_uri": "https://localhost:8080/"
        },
        "id": "5kzfUIf7gEUc",
        "outputId": "ec591ca9-8b55-44e3-eb63-2fc7eb9d78b8"
      },
      "outputs": [
        {
          "name": "stdout",
          "output_type": "stream",
          "text": [
            "Optimal maximum depth of decision tree:  11\n"
          ]
        }
      ],
      "source": [
        "# Now let's build a decision tree model\n",
        "# We will carry out hyperparameter tuning (using grid search and cross validation), to find the optimal maximum depth of the decision tree.\n",
        "\n",
        "from pyspark.ml.regression import DecisionTreeRegressor\n",
        "from pyspark.ml.tuning import CrossValidator, ParamGridBuilder\n",
        "\n",
        "dt_regression = DecisionTreeRegressor(featuresCol='features', labelCol='price', predictionCol='prediction')\n",
        "\n",
        "# Define the hyperparameter grid\n",
        "param_grid = ParamGridBuilder() \\\n",
        "    .addGrid(dt_regression.maxDepth, [7, 8, 9, 10, 11]) \\\n",
        "    .build()\n",
        "\n",
        "# Create the cross-validator\n",
        "evaluator = RegressionEvaluator(predictionCol=\"prediction\", labelCol= 'price', metricName=\"r2\")\n",
        "cross_validator = CrossValidator(estimator=dt_regression,\n",
        "                                 estimatorParamMaps=param_grid,\n",
        "                                 evaluator=evaluator,\n",
        "                                 numFolds=5)\n",
        "\n",
        "# Train the model with the best hyperparameters\n",
        "cv_model = cross_validator.fit(train_data)\n",
        "dt_model = cv_model.bestModel\n",
        "\n",
        "print(\"Optimal maximum depth of decision tree: \", dt_model.getMaxDepth())"
      ]
    },
    {
      "cell_type": "code",
      "execution_count": null,
      "metadata": {
        "colab": {
          "base_uri": "https://localhost:8080/"
        },
        "id": "tOgZ-G4zgGNh",
        "outputId": "322b0131-c408-4063-d1f1-db3313604030"
      },
      "outputs": [
        {
          "name": "stdout",
          "output_type": "stream",
          "text": [
            "Root Mean Squared Error (RMSE) on training data: 4944.755\n",
            "R-squared (R2) on training data: 0.940\n",
            "\n",
            "Root Mean Squared Error (RMSE) on test data: 13050.859\n",
            "R-squared (R2) on test data: 0.678\n"
          ]
        }
      ],
      "source": [
        "# Print out the train and test results of the decision tree\n",
        "\n",
        "train_predictions = dt_model.transform(train_data)\n",
        "\n",
        "evaluator = RegressionEvaluator(labelCol=\"price\", predictionCol=\"prediction\", metricName=\"rmse\")\n",
        "dt_train_rmse = evaluator.evaluate(train_predictions)\n",
        "print(\"Root Mean Squared Error (RMSE) on training data: {:.3f}\".format(dt_train_rmse))\n",
        "\n",
        "evaluator_r2 = RegressionEvaluator(labelCol=\"price\", predictionCol=\"prediction\", metricName=\"r2\")\n",
        "dt_train_r2 = evaluator_r2.evaluate(train_predictions)\n",
        "print(\"R-squared (R2) on training data: {:.3f}\".format(dt_train_r2))\n",
        "\n",
        "print()\n",
        "\n",
        "predictions = dt_model.transform(test_data)\n",
        "\n",
        "evaluator = RegressionEvaluator(labelCol=\"price\", predictionCol=\"prediction\", metricName=\"rmse\")\n",
        "dt_test_rmse = evaluator.evaluate(predictions)\n",
        "print(\"Root Mean Squared Error (RMSE) on test data: {:.3f}\".format(dt_test_rmse))\n",
        "\n",
        "evaluator_r2 = RegressionEvaluator(labelCol=\"price\", predictionCol=\"prediction\", metricName=\"r2\")\n",
        "dt_test_r2 = evaluator_r2.evaluate(predictions)\n",
        "print(\"R-squared (R2) on test data: {:.3f}\".format(dt_test_r2))\n"
      ]
    },
    {
      "cell_type": "markdown",
      "metadata": {
        "id": "1rM-FGxBgGzg"
      },
      "source": [
        "# Summary of Model Results"
      ]
    },
    {
      "cell_type": "code",
      "execution_count": null,
      "metadata": {
        "colab": {
          "base_uri": "https://localhost:8080/",
          "height": 329
        },
        "id": "jbgJ8IUEgIr3",
        "outputId": "d9828a1b-dd1d-494f-c0e7-ccd706723262"
      },
      "outputs": [
        {
          "name": "stdout",
          "output_type": "stream",
          "text": [
            "R2 Scores:\n"
          ]
        },
        {
          "data": {
            "application/vnd.google.colaboratory.intrinsic+json": {
              "summary": "{\n  \"name\": \"r2_scores\",\n  \"rows\": 2,\n  \"fields\": [\n    {\n      \"column\": \"Linear Regression\",\n      \"properties\": {\n        \"dtype\": \"number\",\n        \"std\": 0.2076563021169417,\n        \"min\": 0.6908231782466667,\n        \"max\": 0.9844935370126905,\n        \"num_unique_values\": 2,\n        \"samples\": [\n          0.6908231782466667,\n          0.9844935370126905\n        ],\n        \"semantic_type\": \"\",\n        \"description\": \"\"\n      }\n    },\n    {\n      \"column\": \"Lasso Regression\",\n      \"properties\": {\n        \"dtype\": \"number\",\n        \"std\": 0.18867212123454177,\n        \"min\": 0.7112310835780823,\n        \"max\": 0.9780537562696721,\n        \"num_unique_values\": 2,\n        \"samples\": [\n          0.7112310835780823,\n          0.9780537562696721\n        ],\n        \"semantic_type\": \"\",\n        \"description\": \"\"\n      }\n    },\n    {\n      \"column\": \"Decision Tree\",\n      \"properties\": {\n        \"dtype\": \"number\",\n        \"std\": 0.18512935865915314,\n        \"min\": 0.6781209489784721,\n        \"max\": 0.9399333987876795,\n        \"num_unique_values\": 2,\n        \"samples\": [\n          0.6781209489784721,\n          0.9399333987876795\n        ],\n        \"semantic_type\": \"\",\n        \"description\": \"\"\n      }\n    }\n  ]\n}",
              "type": "dataframe",
              "variable_name": "r2_scores"
            },
            "text/html": [
              "\n",
              "  <div id=\"df-a8ae53b4-09d1-40c9-8f13-b2ca70260a28\" class=\"colab-df-container\">\n",
              "    <div>\n",
              "<style scoped>\n",
              "    .dataframe tbody tr th:only-of-type {\n",
              "        vertical-align: middle;\n",
              "    }\n",
              "\n",
              "    .dataframe tbody tr th {\n",
              "        vertical-align: top;\n",
              "    }\n",
              "\n",
              "    .dataframe thead th {\n",
              "        text-align: right;\n",
              "    }\n",
              "</style>\n",
              "<table border=\"1\" class=\"dataframe\">\n",
              "  <thead>\n",
              "    <tr style=\"text-align: right;\">\n",
              "      <th></th>\n",
              "      <th>Linear Regression</th>\n",
              "      <th>Lasso Regression</th>\n",
              "      <th>Decision Tree</th>\n",
              "    </tr>\n",
              "  </thead>\n",
              "  <tbody>\n",
              "    <tr>\n",
              "      <th>Train Score</th>\n",
              "      <td>0.984</td>\n",
              "      <td>0.978</td>\n",
              "      <td>0.940</td>\n",
              "    </tr>\n",
              "    <tr>\n",
              "      <th>Test Score</th>\n",
              "      <td>0.691</td>\n",
              "      <td>0.711</td>\n",
              "      <td>0.678</td>\n",
              "    </tr>\n",
              "  </tbody>\n",
              "</table>\n",
              "</div>\n",
              "    <div class=\"colab-df-buttons\">\n",
              "\n",
              "  <div class=\"colab-df-container\">\n",
              "    <button class=\"colab-df-convert\" onclick=\"convertToInteractive('df-a8ae53b4-09d1-40c9-8f13-b2ca70260a28')\"\n",
              "            title=\"Convert this dataframe to an interactive table.\"\n",
              "            style=\"display:none;\">\n",
              "\n",
              "  <svg xmlns=\"http://www.w3.org/2000/svg\" height=\"24px\" viewBox=\"0 -960 960 960\">\n",
              "    <path d=\"M120-120v-720h720v720H120Zm60-500h600v-160H180v160Zm220 220h160v-160H400v160Zm0 220h160v-160H400v160ZM180-400h160v-160H180v160Zm440 0h160v-160H620v160ZM180-180h160v-160H180v160Zm440 0h160v-160H620v160Z\"/>\n",
              "  </svg>\n",
              "    </button>\n",
              "\n",
              "  <style>\n",
              "    .colab-df-container {\n",
              "      display:flex;\n",
              "      gap: 12px;\n",
              "    }\n",
              "\n",
              "    .colab-df-convert {\n",
              "      background-color: #E8F0FE;\n",
              "      border: none;\n",
              "      border-radius: 50%;\n",
              "      cursor: pointer;\n",
              "      display: none;\n",
              "      fill: #1967D2;\n",
              "      height: 32px;\n",
              "      padding: 0 0 0 0;\n",
              "      width: 32px;\n",
              "    }\n",
              "\n",
              "    .colab-df-convert:hover {\n",
              "      background-color: #E2EBFA;\n",
              "      box-shadow: 0px 1px 2px rgba(60, 64, 67, 0.3), 0px 1px 3px 1px rgba(60, 64, 67, 0.15);\n",
              "      fill: #174EA6;\n",
              "    }\n",
              "\n",
              "    .colab-df-buttons div {\n",
              "      margin-bottom: 4px;\n",
              "    }\n",
              "\n",
              "    [theme=dark] .colab-df-convert {\n",
              "      background-color: #3B4455;\n",
              "      fill: #D2E3FC;\n",
              "    }\n",
              "\n",
              "    [theme=dark] .colab-df-convert:hover {\n",
              "      background-color: #434B5C;\n",
              "      box-shadow: 0px 1px 3px 1px rgba(0, 0, 0, 0.15);\n",
              "      filter: drop-shadow(0px 1px 2px rgba(0, 0, 0, 0.3));\n",
              "      fill: #FFFFFF;\n",
              "    }\n",
              "  </style>\n",
              "\n",
              "    <script>\n",
              "      const buttonEl =\n",
              "        document.querySelector('#df-a8ae53b4-09d1-40c9-8f13-b2ca70260a28 button.colab-df-convert');\n",
              "      buttonEl.style.display =\n",
              "        google.colab.kernel.accessAllowed ? 'block' : 'none';\n",
              "\n",
              "      async function convertToInteractive(key) {\n",
              "        const element = document.querySelector('#df-a8ae53b4-09d1-40c9-8f13-b2ca70260a28');\n",
              "        const dataTable =\n",
              "          await google.colab.kernel.invokeFunction('convertToInteractive',\n",
              "                                                    [key], {});\n",
              "        if (!dataTable) return;\n",
              "\n",
              "        const docLinkHtml = 'Like what you see? Visit the ' +\n",
              "          '<a target=\"_blank\" href=https://colab.research.google.com/notebooks/data_table.ipynb>data table notebook</a>'\n",
              "          + ' to learn more about interactive tables.';\n",
              "        element.innerHTML = '';\n",
              "        dataTable['output_type'] = 'display_data';\n",
              "        await google.colab.output.renderOutput(dataTable, element);\n",
              "        const docLink = document.createElement('div');\n",
              "        docLink.innerHTML = docLinkHtml;\n",
              "        element.appendChild(docLink);\n",
              "      }\n",
              "    </script>\n",
              "  </div>\n",
              "\n",
              "\n",
              "<div id=\"df-f0ebe576-db5f-4089-a3f9-77d35ef655a7\">\n",
              "  <button class=\"colab-df-quickchart\" onclick=\"quickchart('df-f0ebe576-db5f-4089-a3f9-77d35ef655a7')\"\n",
              "            title=\"Suggest charts\"\n",
              "            style=\"display:none;\">\n",
              "\n",
              "<svg xmlns=\"http://www.w3.org/2000/svg\" height=\"24px\"viewBox=\"0 0 24 24\"\n",
              "     width=\"24px\">\n",
              "    <g>\n",
              "        <path d=\"M19 3H5c-1.1 0-2 .9-2 2v14c0 1.1.9 2 2 2h14c1.1 0 2-.9 2-2V5c0-1.1-.9-2-2-2zM9 17H7v-7h2v7zm4 0h-2V7h2v10zm4 0h-2v-4h2v4z\"/>\n",
              "    </g>\n",
              "</svg>\n",
              "  </button>\n",
              "\n",
              "<style>\n",
              "  .colab-df-quickchart {\n",
              "      --bg-color: #E8F0FE;\n",
              "      --fill-color: #1967D2;\n",
              "      --hover-bg-color: #E2EBFA;\n",
              "      --hover-fill-color: #174EA6;\n",
              "      --disabled-fill-color: #AAA;\n",
              "      --disabled-bg-color: #DDD;\n",
              "  }\n",
              "\n",
              "  [theme=dark] .colab-df-quickchart {\n",
              "      --bg-color: #3B4455;\n",
              "      --fill-color: #D2E3FC;\n",
              "      --hover-bg-color: #434B5C;\n",
              "      --hover-fill-color: #FFFFFF;\n",
              "      --disabled-bg-color: #3B4455;\n",
              "      --disabled-fill-color: #666;\n",
              "  }\n",
              "\n",
              "  .colab-df-quickchart {\n",
              "    background-color: var(--bg-color);\n",
              "    border: none;\n",
              "    border-radius: 50%;\n",
              "    cursor: pointer;\n",
              "    display: none;\n",
              "    fill: var(--fill-color);\n",
              "    height: 32px;\n",
              "    padding: 0;\n",
              "    width: 32px;\n",
              "  }\n",
              "\n",
              "  .colab-df-quickchart:hover {\n",
              "    background-color: var(--hover-bg-color);\n",
              "    box-shadow: 0 1px 2px rgba(60, 64, 67, 0.3), 0 1px 3px 1px rgba(60, 64, 67, 0.15);\n",
              "    fill: var(--button-hover-fill-color);\n",
              "  }\n",
              "\n",
              "  .colab-df-quickchart-complete:disabled,\n",
              "  .colab-df-quickchart-complete:disabled:hover {\n",
              "    background-color: var(--disabled-bg-color);\n",
              "    fill: var(--disabled-fill-color);\n",
              "    box-shadow: none;\n",
              "  }\n",
              "\n",
              "  .colab-df-spinner {\n",
              "    border: 2px solid var(--fill-color);\n",
              "    border-color: transparent;\n",
              "    border-bottom-color: var(--fill-color);\n",
              "    animation:\n",
              "      spin 1s steps(1) infinite;\n",
              "  }\n",
              "\n",
              "  @keyframes spin {\n",
              "    0% {\n",
              "      border-color: transparent;\n",
              "      border-bottom-color: var(--fill-color);\n",
              "      border-left-color: var(--fill-color);\n",
              "    }\n",
              "    20% {\n",
              "      border-color: transparent;\n",
              "      border-left-color: var(--fill-color);\n",
              "      border-top-color: var(--fill-color);\n",
              "    }\n",
              "    30% {\n",
              "      border-color: transparent;\n",
              "      border-left-color: var(--fill-color);\n",
              "      border-top-color: var(--fill-color);\n",
              "      border-right-color: var(--fill-color);\n",
              "    }\n",
              "    40% {\n",
              "      border-color: transparent;\n",
              "      border-right-color: var(--fill-color);\n",
              "      border-top-color: var(--fill-color);\n",
              "    }\n",
              "    60% {\n",
              "      border-color: transparent;\n",
              "      border-right-color: var(--fill-color);\n",
              "    }\n",
              "    80% {\n",
              "      border-color: transparent;\n",
              "      border-right-color: var(--fill-color);\n",
              "      border-bottom-color: var(--fill-color);\n",
              "    }\n",
              "    90% {\n",
              "      border-color: transparent;\n",
              "      border-bottom-color: var(--fill-color);\n",
              "    }\n",
              "  }\n",
              "</style>\n",
              "\n",
              "  <script>\n",
              "    async function quickchart(key) {\n",
              "      const quickchartButtonEl =\n",
              "        document.querySelector('#' + key + ' button');\n",
              "      quickchartButtonEl.disabled = true;  // To prevent multiple clicks.\n",
              "      quickchartButtonEl.classList.add('colab-df-spinner');\n",
              "      try {\n",
              "        const charts = await google.colab.kernel.invokeFunction(\n",
              "            'suggestCharts', [key], {});\n",
              "      } catch (error) {\n",
              "        console.error('Error during call to suggestCharts:', error);\n",
              "      }\n",
              "      quickchartButtonEl.classList.remove('colab-df-spinner');\n",
              "      quickchartButtonEl.classList.add('colab-df-quickchart-complete');\n",
              "    }\n",
              "    (() => {\n",
              "      let quickchartButtonEl =\n",
              "        document.querySelector('#df-f0ebe576-db5f-4089-a3f9-77d35ef655a7 button');\n",
              "      quickchartButtonEl.style.display =\n",
              "        google.colab.kernel.accessAllowed ? 'block' : 'none';\n",
              "    })();\n",
              "  </script>\n",
              "</div>\n",
              "\n",
              "  <div id=\"id_420fea72-46f7-4b65-b6e1-7ec0ddd884a4\">\n",
              "    <style>\n",
              "      .colab-df-generate {\n",
              "        background-color: #E8F0FE;\n",
              "        border: none;\n",
              "        border-radius: 50%;\n",
              "        cursor: pointer;\n",
              "        display: none;\n",
              "        fill: #1967D2;\n",
              "        height: 32px;\n",
              "        padding: 0 0 0 0;\n",
              "        width: 32px;\n",
              "      }\n",
              "\n",
              "      .colab-df-generate:hover {\n",
              "        background-color: #E2EBFA;\n",
              "        box-shadow: 0px 1px 2px rgba(60, 64, 67, 0.3), 0px 1px 3px 1px rgba(60, 64, 67, 0.15);\n",
              "        fill: #174EA6;\n",
              "      }\n",
              "\n",
              "      [theme=dark] .colab-df-generate {\n",
              "        background-color: #3B4455;\n",
              "        fill: #D2E3FC;\n",
              "      }\n",
              "\n",
              "      [theme=dark] .colab-df-generate:hover {\n",
              "        background-color: #434B5C;\n",
              "        box-shadow: 0px 1px 3px 1px rgba(0, 0, 0, 0.15);\n",
              "        filter: drop-shadow(0px 1px 2px rgba(0, 0, 0, 0.3));\n",
              "        fill: #FFFFFF;\n",
              "      }\n",
              "    </style>\n",
              "    <button class=\"colab-df-generate\" onclick=\"generateWithVariable('r2_scores')\"\n",
              "            title=\"Generate code using this dataframe.\"\n",
              "            style=\"display:none;\">\n",
              "\n",
              "  <svg xmlns=\"http://www.w3.org/2000/svg\" height=\"24px\"viewBox=\"0 0 24 24\"\n",
              "       width=\"24px\">\n",
              "    <path d=\"M7,19H8.4L18.45,9,17,7.55,7,17.6ZM5,21V16.75L18.45,3.32a2,2,0,0,1,2.83,0l1.4,1.43a1.91,1.91,0,0,1,.58,1.4,1.91,1.91,0,0,1-.58,1.4L9.25,21ZM18.45,9,17,7.55Zm-12,3A5.31,5.31,0,0,0,4.9,8.1,5.31,5.31,0,0,0,1,6.5,5.31,5.31,0,0,0,4.9,4.9,5.31,5.31,0,0,0,6.5,1,5.31,5.31,0,0,0,8.1,4.9,5.31,5.31,0,0,0,12,6.5,5.46,5.46,0,0,0,6.5,12Z\"/>\n",
              "  </svg>\n",
              "    </button>\n",
              "    <script>\n",
              "      (() => {\n",
              "      const buttonEl =\n",
              "        document.querySelector('#id_420fea72-46f7-4b65-b6e1-7ec0ddd884a4 button.colab-df-generate');\n",
              "      buttonEl.style.display =\n",
              "        google.colab.kernel.accessAllowed ? 'block' : 'none';\n",
              "\n",
              "      buttonEl.onclick = () => {\n",
              "        google.colab.notebook.generateWithVariable('r2_scores');\n",
              "      }\n",
              "      })();\n",
              "    </script>\n",
              "  </div>\n",
              "\n",
              "    </div>\n",
              "  </div>\n"
            ],
            "text/plain": [
              "             Linear Regression  Lasso Regression  Decision Tree\n",
              "Train Score              0.984             0.978          0.940\n",
              "Test Score               0.691             0.711          0.678"
            ]
          },
          "metadata": {},
          "output_type": "display_data"
        },
        {
          "name": "stdout",
          "output_type": "stream",
          "text": [
            "\n",
            "\n",
            "\n",
            "RMSE Scores:\n"
          ]
        },
        {
          "data": {
            "application/vnd.google.colaboratory.intrinsic+json": {
              "summary": "{\n  \"name\": \"rmse_scores\",\n  \"rows\": 2,\n  \"fields\": [\n    {\n      \"column\": \"Linear Regression\",\n      \"properties\": {\n        \"dtype\": \"number\",\n        \"std\": 7267.911967251215,\n        \"min\": 2512.375936724933,\n        \"max\": 12790.755610945323,\n        \"num_unique_values\": 2,\n        \"samples\": [\n          12790.755610945323,\n          2512.375936724933\n        ],\n        \"semantic_type\": \"\",\n        \"description\": \"\"\n      }\n    },\n    {\n      \"column\": \"Lasso Regression\",\n      \"properties\": {\n        \"dtype\": \"number\",\n        \"std\": 6627.379082051073,\n        \"min\": 2988.8791173743357,\n        \"max\": 12361.408498198716,\n        \"num_unique_values\": 2,\n        \"samples\": [\n          12361.408498198716,\n          2988.8791173743357\n        ],\n        \"semantic_type\": \"\",\n        \"description\": \"\"\n      }\n    },\n    {\n      \"column\": \"Decision Tree\",\n      \"properties\": {\n        \"dtype\": \"number\",\n        \"std\": 5731.8809866108895,\n        \"min\": 4944.75503130086,\n        \"max\": 13050.858860474456,\n        \"num_unique_values\": 2,\n        \"samples\": [\n          13050.858860474456,\n          4944.75503130086\n        ],\n        \"semantic_type\": \"\",\n        \"description\": \"\"\n      }\n    }\n  ]\n}",
              "type": "dataframe",
              "variable_name": "rmse_scores"
            },
            "text/html": [
              "\n",
              "  <div id=\"df-8d89d316-ae2c-4629-9c36-c162bc62992c\" class=\"colab-df-container\">\n",
              "    <div>\n",
              "<style scoped>\n",
              "    .dataframe tbody tr th:only-of-type {\n",
              "        vertical-align: middle;\n",
              "    }\n",
              "\n",
              "    .dataframe tbody tr th {\n",
              "        vertical-align: top;\n",
              "    }\n",
              "\n",
              "    .dataframe thead th {\n",
              "        text-align: right;\n",
              "    }\n",
              "</style>\n",
              "<table border=\"1\" class=\"dataframe\">\n",
              "  <thead>\n",
              "    <tr style=\"text-align: right;\">\n",
              "      <th></th>\n",
              "      <th>Linear Regression</th>\n",
              "      <th>Lasso Regression</th>\n",
              "      <th>Decision Tree</th>\n",
              "    </tr>\n",
              "  </thead>\n",
              "  <tbody>\n",
              "    <tr>\n",
              "      <th>Train Score</th>\n",
              "      <td>2,512.376</td>\n",
              "      <td>2,988.879</td>\n",
              "      <td>4,944.755</td>\n",
              "    </tr>\n",
              "    <tr>\n",
              "      <th>Test Score</th>\n",
              "      <td>12,790.756</td>\n",
              "      <td>12,361.408</td>\n",
              "      <td>13,050.859</td>\n",
              "    </tr>\n",
              "  </tbody>\n",
              "</table>\n",
              "</div>\n",
              "    <div class=\"colab-df-buttons\">\n",
              "\n",
              "  <div class=\"colab-df-container\">\n",
              "    <button class=\"colab-df-convert\" onclick=\"convertToInteractive('df-8d89d316-ae2c-4629-9c36-c162bc62992c')\"\n",
              "            title=\"Convert this dataframe to an interactive table.\"\n",
              "            style=\"display:none;\">\n",
              "\n",
              "  <svg xmlns=\"http://www.w3.org/2000/svg\" height=\"24px\" viewBox=\"0 -960 960 960\">\n",
              "    <path d=\"M120-120v-720h720v720H120Zm60-500h600v-160H180v160Zm220 220h160v-160H400v160Zm0 220h160v-160H400v160ZM180-400h160v-160H180v160Zm440 0h160v-160H620v160ZM180-180h160v-160H180v160Zm440 0h160v-160H620v160Z\"/>\n",
              "  </svg>\n",
              "    </button>\n",
              "\n",
              "  <style>\n",
              "    .colab-df-container {\n",
              "      display:flex;\n",
              "      gap: 12px;\n",
              "    }\n",
              "\n",
              "    .colab-df-convert {\n",
              "      background-color: #E8F0FE;\n",
              "      border: none;\n",
              "      border-radius: 50%;\n",
              "      cursor: pointer;\n",
              "      display: none;\n",
              "      fill: #1967D2;\n",
              "      height: 32px;\n",
              "      padding: 0 0 0 0;\n",
              "      width: 32px;\n",
              "    }\n",
              "\n",
              "    .colab-df-convert:hover {\n",
              "      background-color: #E2EBFA;\n",
              "      box-shadow: 0px 1px 2px rgba(60, 64, 67, 0.3), 0px 1px 3px 1px rgba(60, 64, 67, 0.15);\n",
              "      fill: #174EA6;\n",
              "    }\n",
              "\n",
              "    .colab-df-buttons div {\n",
              "      margin-bottom: 4px;\n",
              "    }\n",
              "\n",
              "    [theme=dark] .colab-df-convert {\n",
              "      background-color: #3B4455;\n",
              "      fill: #D2E3FC;\n",
              "    }\n",
              "\n",
              "    [theme=dark] .colab-df-convert:hover {\n",
              "      background-color: #434B5C;\n",
              "      box-shadow: 0px 1px 3px 1px rgba(0, 0, 0, 0.15);\n",
              "      filter: drop-shadow(0px 1px 2px rgba(0, 0, 0, 0.3));\n",
              "      fill: #FFFFFF;\n",
              "    }\n",
              "  </style>\n",
              "\n",
              "    <script>\n",
              "      const buttonEl =\n",
              "        document.querySelector('#df-8d89d316-ae2c-4629-9c36-c162bc62992c button.colab-df-convert');\n",
              "      buttonEl.style.display =\n",
              "        google.colab.kernel.accessAllowed ? 'block' : 'none';\n",
              "\n",
              "      async function convertToInteractive(key) {\n",
              "        const element = document.querySelector('#df-8d89d316-ae2c-4629-9c36-c162bc62992c');\n",
              "        const dataTable =\n",
              "          await google.colab.kernel.invokeFunction('convertToInteractive',\n",
              "                                                    [key], {});\n",
              "        if (!dataTable) return;\n",
              "\n",
              "        const docLinkHtml = 'Like what you see? Visit the ' +\n",
              "          '<a target=\"_blank\" href=https://colab.research.google.com/notebooks/data_table.ipynb>data table notebook</a>'\n",
              "          + ' to learn more about interactive tables.';\n",
              "        element.innerHTML = '';\n",
              "        dataTable['output_type'] = 'display_data';\n",
              "        await google.colab.output.renderOutput(dataTable, element);\n",
              "        const docLink = document.createElement('div');\n",
              "        docLink.innerHTML = docLinkHtml;\n",
              "        element.appendChild(docLink);\n",
              "      }\n",
              "    </script>\n",
              "  </div>\n",
              "\n",
              "\n",
              "<div id=\"df-0aea0b61-d8ee-4bda-b79a-ebf83a7fa2a0\">\n",
              "  <button class=\"colab-df-quickchart\" onclick=\"quickchart('df-0aea0b61-d8ee-4bda-b79a-ebf83a7fa2a0')\"\n",
              "            title=\"Suggest charts\"\n",
              "            style=\"display:none;\">\n",
              "\n",
              "<svg xmlns=\"http://www.w3.org/2000/svg\" height=\"24px\"viewBox=\"0 0 24 24\"\n",
              "     width=\"24px\">\n",
              "    <g>\n",
              "        <path d=\"M19 3H5c-1.1 0-2 .9-2 2v14c0 1.1.9 2 2 2h14c1.1 0 2-.9 2-2V5c0-1.1-.9-2-2-2zM9 17H7v-7h2v7zm4 0h-2V7h2v10zm4 0h-2v-4h2v4z\"/>\n",
              "    </g>\n",
              "</svg>\n",
              "  </button>\n",
              "\n",
              "<style>\n",
              "  .colab-df-quickchart {\n",
              "      --bg-color: #E8F0FE;\n",
              "      --fill-color: #1967D2;\n",
              "      --hover-bg-color: #E2EBFA;\n",
              "      --hover-fill-color: #174EA6;\n",
              "      --disabled-fill-color: #AAA;\n",
              "      --disabled-bg-color: #DDD;\n",
              "  }\n",
              "\n",
              "  [theme=dark] .colab-df-quickchart {\n",
              "      --bg-color: #3B4455;\n",
              "      --fill-color: #D2E3FC;\n",
              "      --hover-bg-color: #434B5C;\n",
              "      --hover-fill-color: #FFFFFF;\n",
              "      --disabled-bg-color: #3B4455;\n",
              "      --disabled-fill-color: #666;\n",
              "  }\n",
              "\n",
              "  .colab-df-quickchart {\n",
              "    background-color: var(--bg-color);\n",
              "    border: none;\n",
              "    border-radius: 50%;\n",
              "    cursor: pointer;\n",
              "    display: none;\n",
              "    fill: var(--fill-color);\n",
              "    height: 32px;\n",
              "    padding: 0;\n",
              "    width: 32px;\n",
              "  }\n",
              "\n",
              "  .colab-df-quickchart:hover {\n",
              "    background-color: var(--hover-bg-color);\n",
              "    box-shadow: 0 1px 2px rgba(60, 64, 67, 0.3), 0 1px 3px 1px rgba(60, 64, 67, 0.15);\n",
              "    fill: var(--button-hover-fill-color);\n",
              "  }\n",
              "\n",
              "  .colab-df-quickchart-complete:disabled,\n",
              "  .colab-df-quickchart-complete:disabled:hover {\n",
              "    background-color: var(--disabled-bg-color);\n",
              "    fill: var(--disabled-fill-color);\n",
              "    box-shadow: none;\n",
              "  }\n",
              "\n",
              "  .colab-df-spinner {\n",
              "    border: 2px solid var(--fill-color);\n",
              "    border-color: transparent;\n",
              "    border-bottom-color: var(--fill-color);\n",
              "    animation:\n",
              "      spin 1s steps(1) infinite;\n",
              "  }\n",
              "\n",
              "  @keyframes spin {\n",
              "    0% {\n",
              "      border-color: transparent;\n",
              "      border-bottom-color: var(--fill-color);\n",
              "      border-left-color: var(--fill-color);\n",
              "    }\n",
              "    20% {\n",
              "      border-color: transparent;\n",
              "      border-left-color: var(--fill-color);\n",
              "      border-top-color: var(--fill-color);\n",
              "    }\n",
              "    30% {\n",
              "      border-color: transparent;\n",
              "      border-left-color: var(--fill-color);\n",
              "      border-top-color: var(--fill-color);\n",
              "      border-right-color: var(--fill-color);\n",
              "    }\n",
              "    40% {\n",
              "      border-color: transparent;\n",
              "      border-right-color: var(--fill-color);\n",
              "      border-top-color: var(--fill-color);\n",
              "    }\n",
              "    60% {\n",
              "      border-color: transparent;\n",
              "      border-right-color: var(--fill-color);\n",
              "    }\n",
              "    80% {\n",
              "      border-color: transparent;\n",
              "      border-right-color: var(--fill-color);\n",
              "      border-bottom-color: var(--fill-color);\n",
              "    }\n",
              "    90% {\n",
              "      border-color: transparent;\n",
              "      border-bottom-color: var(--fill-color);\n",
              "    }\n",
              "  }\n",
              "</style>\n",
              "\n",
              "  <script>\n",
              "    async function quickchart(key) {\n",
              "      const quickchartButtonEl =\n",
              "        document.querySelector('#' + key + ' button');\n",
              "      quickchartButtonEl.disabled = true;  // To prevent multiple clicks.\n",
              "      quickchartButtonEl.classList.add('colab-df-spinner');\n",
              "      try {\n",
              "        const charts = await google.colab.kernel.invokeFunction(\n",
              "            'suggestCharts', [key], {});\n",
              "      } catch (error) {\n",
              "        console.error('Error during call to suggestCharts:', error);\n",
              "      }\n",
              "      quickchartButtonEl.classList.remove('colab-df-spinner');\n",
              "      quickchartButtonEl.classList.add('colab-df-quickchart-complete');\n",
              "    }\n",
              "    (() => {\n",
              "      let quickchartButtonEl =\n",
              "        document.querySelector('#df-0aea0b61-d8ee-4bda-b79a-ebf83a7fa2a0 button');\n",
              "      quickchartButtonEl.style.display =\n",
              "        google.colab.kernel.accessAllowed ? 'block' : 'none';\n",
              "    })();\n",
              "  </script>\n",
              "</div>\n",
              "\n",
              "  <div id=\"id_da3f7ba8-9e11-4bea-9df0-096a602fd3ad\">\n",
              "    <style>\n",
              "      .colab-df-generate {\n",
              "        background-color: #E8F0FE;\n",
              "        border: none;\n",
              "        border-radius: 50%;\n",
              "        cursor: pointer;\n",
              "        display: none;\n",
              "        fill: #1967D2;\n",
              "        height: 32px;\n",
              "        padding: 0 0 0 0;\n",
              "        width: 32px;\n",
              "      }\n",
              "\n",
              "      .colab-df-generate:hover {\n",
              "        background-color: #E2EBFA;\n",
              "        box-shadow: 0px 1px 2px rgba(60, 64, 67, 0.3), 0px 1px 3px 1px rgba(60, 64, 67, 0.15);\n",
              "        fill: #174EA6;\n",
              "      }\n",
              "\n",
              "      [theme=dark] .colab-df-generate {\n",
              "        background-color: #3B4455;\n",
              "        fill: #D2E3FC;\n",
              "      }\n",
              "\n",
              "      [theme=dark] .colab-df-generate:hover {\n",
              "        background-color: #434B5C;\n",
              "        box-shadow: 0px 1px 3px 1px rgba(0, 0, 0, 0.15);\n",
              "        filter: drop-shadow(0px 1px 2px rgba(0, 0, 0, 0.3));\n",
              "        fill: #FFFFFF;\n",
              "      }\n",
              "    </style>\n",
              "    <button class=\"colab-df-generate\" onclick=\"generateWithVariable('rmse_scores')\"\n",
              "            title=\"Generate code using this dataframe.\"\n",
              "            style=\"display:none;\">\n",
              "\n",
              "  <svg xmlns=\"http://www.w3.org/2000/svg\" height=\"24px\"viewBox=\"0 0 24 24\"\n",
              "       width=\"24px\">\n",
              "    <path d=\"M7,19H8.4L18.45,9,17,7.55,7,17.6ZM5,21V16.75L18.45,3.32a2,2,0,0,1,2.83,0l1.4,1.43a1.91,1.91,0,0,1,.58,1.4,1.91,1.91,0,0,1-.58,1.4L9.25,21ZM18.45,9,17,7.55Zm-12,3A5.31,5.31,0,0,0,4.9,8.1,5.31,5.31,0,0,0,1,6.5,5.31,5.31,0,0,0,4.9,4.9,5.31,5.31,0,0,0,6.5,1,5.31,5.31,0,0,0,8.1,4.9,5.31,5.31,0,0,0,12,6.5,5.46,5.46,0,0,0,6.5,12Z\"/>\n",
              "  </svg>\n",
              "    </button>\n",
              "    <script>\n",
              "      (() => {\n",
              "      const buttonEl =\n",
              "        document.querySelector('#id_da3f7ba8-9e11-4bea-9df0-096a602fd3ad button.colab-df-generate');\n",
              "      buttonEl.style.display =\n",
              "        google.colab.kernel.accessAllowed ? 'block' : 'none';\n",
              "\n",
              "      buttonEl.onclick = () => {\n",
              "        google.colab.notebook.generateWithVariable('rmse_scores');\n",
              "      }\n",
              "      })();\n",
              "    </script>\n",
              "  </div>\n",
              "\n",
              "    </div>\n",
              "  </div>\n"
            ],
            "text/plain": [
              "             Linear Regression  Lasso Regression  Decision Tree\n",
              "Train Score          2,512.376         2,988.879      4,944.755\n",
              "Test Score          12,790.756        12,361.408     13,050.859"
            ]
          },
          "metadata": {},
          "output_type": "display_data"
        }
      ],
      "source": [
        "# Summarize the validation metrics of each model\n",
        "import pandas as pd\n",
        "pd.options.display.float_format = \"{:,.3f}\".format\n",
        "\n",
        "r2_scores_as_dict = {\n",
        "    'Linear Regression': [lr_train_r2, lr_test_r2],\n",
        "    'Lasso Regression': [lasso_train_r2, lasso_test_r2],\n",
        "    'Decision Tree': [dt_train_r2, dt_test_r2],\n",
        "}\n",
        "\n",
        "r2_scores = pd.DataFrame(r2_scores_as_dict, index=['Train Score', 'Test Score'])\n",
        "print('R2 Scores:')\n",
        "display(r2_scores)\n",
        "\n",
        "print('\\n\\n')\n",
        "\n",
        "rmse_scores_as_dict = {\n",
        "    'Linear Regression': [lr_train_rmse, lr_test_rmse],\n",
        "    'Lasso Regression': [lasso_train_rmse, lasso_test_rmse],\n",
        "    'Decision Tree': [dt_train_rmse, dt_test_rmse],\n",
        "}\n",
        "\n",
        "rmse_scores = pd.DataFrame(rmse_scores_as_dict, index=['Train Score', 'Test Score'])\n",
        "print('RMSE Scores:')\n",
        "display(rmse_scores)\n"
      ]
    }
  ],
  "metadata": {
    "colab": {
      "provenance": []
    },
    "kernelspec": {
      "display_name": "Python 3",
      "name": "python3"
    },
    "language_info": {
      "name": "python"
    }
  },
  "nbformat": 4,
  "nbformat_minor": 0
}